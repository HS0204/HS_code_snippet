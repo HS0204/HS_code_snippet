{
 "cells": [
  {
   "cell_type": "markdown",
   "id": "e276d3ae",
   "metadata": {},
   "source": [
    "https://swexpertacademy.com/main/code/problem/problemDetail.do?problemLevel=2&contestProbId=AV5PjMgaALgDFAUq&categoryId=AV5PjMgaALgDFAUq&categoryType=CODE&problemTitle=&orderBy=FIRST_REG_DATETIME&selectCodeLang=ALL&select-1=2&pageSize=10&pageIndex=3"
   ]
  },
  {
   "cell_type": "markdown",
   "id": "83c28e76",
   "metadata": {},
   "source": [
    "# 첫번째 오류 코드"
   ]
  },
  {
   "cell_type": "code",
   "execution_count": 1,
   "id": "f1253f30",
   "metadata": {},
   "outputs": [
    {
     "ename": "KeyboardInterrupt",
     "evalue": "Interrupted by user",
     "output_type": "error",
     "traceback": [
      "\u001b[1;31m---------------------------------------------------------------------------\u001b[0m",
      "\u001b[1;31mKeyboardInterrupt\u001b[0m                         Traceback (most recent call last)",
      "Input \u001b[1;32mIn [1]\u001b[0m, in \u001b[0;36m<cell line: 1>\u001b[1;34m()\u001b[0m\n\u001b[1;32m----> 1\u001b[0m T \u001b[38;5;241m=\u001b[39m \u001b[38;5;28mint\u001b[39m(\u001b[38;5;28;43minput\u001b[39;49m\u001b[43m(\u001b[49m\u001b[43m)\u001b[49m)\n\u001b[0;32m      2\u001b[0m distance \u001b[38;5;241m=\u001b[39m \u001b[38;5;241m0\u001b[39m\n\u001b[0;32m      3\u001b[0m times \u001b[38;5;241m=\u001b[39m \u001b[38;5;241m0\u001b[39m\n",
      "File \u001b[1;32m~\\anaconda3\\envs\\tf\\lib\\site-packages\\ipykernel\\kernelbase.py:1075\u001b[0m, in \u001b[0;36mKernel.raw_input\u001b[1;34m(self, prompt)\u001b[0m\n\u001b[0;32m   1071\u001b[0m \u001b[38;5;28;01mif\u001b[39;00m \u001b[38;5;129;01mnot\u001b[39;00m \u001b[38;5;28mself\u001b[39m\u001b[38;5;241m.\u001b[39m_allow_stdin:\n\u001b[0;32m   1072\u001b[0m     \u001b[38;5;28;01mraise\u001b[39;00m StdinNotImplementedError(\n\u001b[0;32m   1073\u001b[0m         \u001b[38;5;124m\"\u001b[39m\u001b[38;5;124mraw_input was called, but this frontend does not support input requests.\u001b[39m\u001b[38;5;124m\"\u001b[39m\n\u001b[0;32m   1074\u001b[0m     )\n\u001b[1;32m-> 1075\u001b[0m \u001b[38;5;28;01mreturn\u001b[39;00m \u001b[38;5;28;43mself\u001b[39;49m\u001b[38;5;241;43m.\u001b[39;49m\u001b[43m_input_request\u001b[49m\u001b[43m(\u001b[49m\n\u001b[0;32m   1076\u001b[0m \u001b[43m    \u001b[49m\u001b[38;5;28;43mstr\u001b[39;49m\u001b[43m(\u001b[49m\u001b[43mprompt\u001b[49m\u001b[43m)\u001b[49m\u001b[43m,\u001b[49m\n\u001b[0;32m   1077\u001b[0m \u001b[43m    \u001b[49m\u001b[38;5;28;43mself\u001b[39;49m\u001b[38;5;241;43m.\u001b[39;49m\u001b[43m_parent_ident\u001b[49m\u001b[43m[\u001b[49m\u001b[38;5;124;43m\"\u001b[39;49m\u001b[38;5;124;43mshell\u001b[39;49m\u001b[38;5;124;43m\"\u001b[39;49m\u001b[43m]\u001b[49m\u001b[43m,\u001b[49m\n\u001b[0;32m   1078\u001b[0m \u001b[43m    \u001b[49m\u001b[38;5;28;43mself\u001b[39;49m\u001b[38;5;241;43m.\u001b[39;49m\u001b[43mget_parent\u001b[49m\u001b[43m(\u001b[49m\u001b[38;5;124;43m\"\u001b[39;49m\u001b[38;5;124;43mshell\u001b[39;49m\u001b[38;5;124;43m\"\u001b[39;49m\u001b[43m)\u001b[49m\u001b[43m,\u001b[49m\n\u001b[0;32m   1079\u001b[0m \u001b[43m    \u001b[49m\u001b[43mpassword\u001b[49m\u001b[38;5;241;43m=\u001b[39;49m\u001b[38;5;28;43;01mFalse\u001b[39;49;00m\u001b[43m,\u001b[49m\n\u001b[0;32m   1080\u001b[0m \u001b[43m\u001b[49m\u001b[43m)\u001b[49m\n",
      "File \u001b[1;32m~\\anaconda3\\envs\\tf\\lib\\site-packages\\ipykernel\\kernelbase.py:1120\u001b[0m, in \u001b[0;36mKernel._input_request\u001b[1;34m(self, prompt, ident, parent, password)\u001b[0m\n\u001b[0;32m   1117\u001b[0m             \u001b[38;5;28;01mbreak\u001b[39;00m\n\u001b[0;32m   1118\u001b[0m \u001b[38;5;28;01mexcept\u001b[39;00m \u001b[38;5;167;01mKeyboardInterrupt\u001b[39;00m:\n\u001b[0;32m   1119\u001b[0m     \u001b[38;5;66;03m# re-raise KeyboardInterrupt, to truncate traceback\u001b[39;00m\n\u001b[1;32m-> 1120\u001b[0m     \u001b[38;5;28;01mraise\u001b[39;00m \u001b[38;5;167;01mKeyboardInterrupt\u001b[39;00m(\u001b[38;5;124m\"\u001b[39m\u001b[38;5;124mInterrupted by user\u001b[39m\u001b[38;5;124m\"\u001b[39m) \u001b[38;5;28;01mfrom\u001b[39;00m \u001b[38;5;28mNone\u001b[39m\n\u001b[0;32m   1121\u001b[0m \u001b[38;5;28;01mexcept\u001b[39;00m \u001b[38;5;167;01mException\u001b[39;00m:\n\u001b[0;32m   1122\u001b[0m     \u001b[38;5;28mself\u001b[39m\u001b[38;5;241m.\u001b[39mlog\u001b[38;5;241m.\u001b[39mwarning(\u001b[38;5;124m\"\u001b[39m\u001b[38;5;124mInvalid Message:\u001b[39m\u001b[38;5;124m\"\u001b[39m, exc_info\u001b[38;5;241m=\u001b[39m\u001b[38;5;28;01mTrue\u001b[39;00m)\n",
      "\u001b[1;31mKeyboardInterrupt\u001b[0m: Interrupted by user"
     ]
    }
   ],
   "source": [
    "T = int(input())\n",
    "distance = 0\n",
    "times = 0\n",
    "RC_speed = 0\n",
    "\n",
    "for test_case in range(1, T + 1):\n",
    "    com = int(input())\n",
    "    \n",
    "    for _ in range(com):\n",
    "        command, speed = map(int, input().split())\n",
    "\n",
    "        if command == 1:\n",
    "            RC_speed += speed\n",
    "        elif RC_speed > 0 and command == 2:\n",
    "            RC_speed -= speed\n",
    "\n",
    "        distance += speed\n",
    "\n",
    "    print(f\"#{test_case} {distance}\")"
   ]
  },
  {
   "cell_type": "markdown",
   "id": "59d99ad3",
   "metadata": {},
   "source": [
    "이동거리(distance)와 현재 속도(RC_speed)가 잘못된 위치에 선언되어 있고, elif 조건문도 잘못 되었다. and를 써서 조건문을 작성하는 습관 때문에 엉터리 코드가 나오는 경우가 많다. 가독성과 효율성에 중심을 맞추자."
   ]
  },
  {
   "cell_type": "markdown",
   "id": "029d34f1",
   "metadata": {},
   "source": [
    "# 두번째 오류 코드"
   ]
  },
  {
   "cell_type": "code",
   "execution_count": null,
   "id": "be901cb7",
   "metadata": {},
   "outputs": [],
   "source": [
    "T = int(input())\n",
    "\n",
    "for test_case in range(1, T + 1):\n",
    "    n = int(input())\n",
    "    distance = 0\n",
    "    RC_speed = 0\n",
    "    \n",
    "    for _ in range(n):        \n",
    "        command, speed = list(map(int, input().split()))\n",
    "\n",
    "        if command == 1:\n",
    "            RC_speed += speed\n",
    "        elif command == 2:\n",
    "            if RC_speed > speed:\n",
    "                RC_speed -= speed\n",
    "            else:\n",
    "                RC_speed = 0\n",
    "\n",
    "        distance += speed\n",
    "\n",
    "    print(f\"#{test_case} {distance}\")"
   ]
  },
  {
   "cell_type": "markdown",
   "id": "b7242df8",
   "metadata": {},
   "source": [
    "변수를 헷갈려서 생긴 문제. distance에 더해지는 변수가 잘못 되었다. 변수 이름도 잘 지어야겠다. 이동거리(distance)에 더해준 speed는 현재 RC카의 속도가 아니라 가속 or 감속되는 속력을 나타내는 변수다."
   ]
  },
  {
   "cell_type": "markdown",
   "id": "ef8d62b2",
   "metadata": {},
   "source": [
    "# 세번째 오류 코드"
   ]
  },
  {
   "cell_type": "code",
   "execution_count": null,
   "id": "4b4e9839",
   "metadata": {},
   "outputs": [],
   "source": [
    "T = int(input())\n",
    "\n",
    "for test_case in range(1, T + 1):\n",
    "    n = int(input())\n",
    "    distance = 0\n",
    "    RC_speed = 0\n",
    "    \n",
    "    for _ in range(n):        \n",
    "        command, speed = list(map(int, input().split()))\n",
    "\n",
    "        if command == 1:\n",
    "            RC_speed += speed\n",
    "        elif command == 2:\n",
    "            if RC_speed > speed:\n",
    "                RC_speed -= speed\n",
    "            else:\n",
    "                RC_speed = 0\n",
    "\n",
    "        distance += RC_speed\n",
    "\n",
    "    print(f\"#{test_case} {distance}\")"
   ]
  },
  {
   "cell_type": "markdown",
   "id": "5b4b6d0c",
   "metadata": {},
   "source": [
    "커맨드와 속력을 각각의 변수로 받아서 발생한 문제. 커맨드가 0일 경우에는 가감속 해야하는 속력(speed)이 입력되지 않아 speed를 사용하는 조건문에서 오류가 발생한다. 웬만하면 다수가 들어오는 입력은 list로 받자."
   ]
  },
  {
   "cell_type": "markdown",
   "id": "dab39e68",
   "metadata": {},
   "source": [
    "# 정답 코드"
   ]
  },
  {
   "cell_type": "code",
   "execution_count": null,
   "id": "1c9ee7db",
   "metadata": {},
   "outputs": [],
   "source": [
    "T = int(input())\n",
    "\n",
    "for test_case in range(1, T + 1):\n",
    "    n = int(input())\n",
    "    distance = 0\n",
    "    RC_speed = 0\n",
    "    \n",
    "    for _ in range(n):        \n",
    "        arr = list(map(int,input().split()))\n",
    "\n",
    "        if arr[0] == 1:\n",
    "            RC_speed += arr[1]\n",
    "        elif arr[0] == 2:\n",
    "            if RC_speed > arr[1]:\n",
    "                RC_speed -= arr[1]\n",
    "            else:\n",
    "                RC_speed = 0\n",
    "\n",
    "        distance += RC_speed\n",
    "\n",
    "    print(f\"#{test_case} {distance}\")"
   ]
  }
 ],
 "metadata": {
  "kernelspec": {
   "display_name": "Python 3 (ipykernel)",
   "language": "python",
   "name": "python3"
  },
  "language_info": {
   "codemirror_mode": {
    "name": "ipython",
    "version": 3
   },
   "file_extension": ".py",
   "mimetype": "text/x-python",
   "name": "python",
   "nbconvert_exporter": "python",
   "pygments_lexer": "ipython3",
   "version": "3.8.13"
  }
 },
 "nbformat": 4,
 "nbformat_minor": 5
}
