{
 "cells": [
  {
   "cell_type": "markdown",
   "id": "0f99be84",
   "metadata": {},
   "source": [
    "https://swexpertacademy.com/main/code/problem/problemDetail.do?problemLevel=2&contestProbId=AV18_yw6I9MCFAZN&categoryId=AV18_yw6I9MCFAZN&categoryType=CODE&problemTitle=&orderBy=FIRST_REG_DATETIME&selectCodeLang=ALL&select-1=2&pageSize=10&pageIndex=3"
   ]
  },
  {
   "cell_type": "markdown",
   "id": "413a7937",
   "metadata": {},
   "source": [
    "## 정답 코드"
   ]
  },
  {
   "cell_type": "code",
   "execution_count": 1,
   "id": "d1283595",
   "metadata": {},
   "outputs": [
    {
     "name": "stdout",
     "output_type": "stream",
     "text": [
      "1\n",
      "123\n",
      "#1 1107\n"
     ]
    }
   ],
   "source": [
    "T = int(input())\n",
    "\n",
    "for test_case in range(1, T + 1):\n",
    "    N = int(input())\n",
    "    k = 1\n",
    "    arr = []\n",
    "    \n",
    "    while True:\n",
    "        number = k * N\n",
    "        data = list(map(int, str(number)))\n",
    "        \n",
    "        for n in data:\n",
    "            if n not in arr:\n",
    "                arr.append(n)\n",
    "        \n",
    "        if len(arr) == 10:\n",
    "            break\n",
    "        \n",
    "        k += 1\n",
    "\n",
    "    print(f\"#{test_case} {number}\")"
   ]
  },
  {
   "cell_type": "markdown",
   "id": "2db16141",
   "metadata": {},
   "source": [
    "테스트를 할 때 자꾸만 헛돌아서 디버깅을 해보니 N을 입력받는 부분이 문제였다. 원래는 int형이 아닌 그냥 input()으로 받았더니, string형식으로 입력이 되어 k * N이 제대로 동작하지 않았기 때문이다.\n",
    "\n",
    "#### !!자료형 주의하자!!"
   ]
  },
  {
   "cell_type": "code",
   "execution_count": null,
   "id": "dacd3168",
   "metadata": {},
   "outputs": [],
   "source": []
  }
 ],
 "metadata": {
  "kernelspec": {
   "display_name": "Python 3 (ipykernel)",
   "language": "python",
   "name": "python3"
  },
  "language_info": {
   "codemirror_mode": {
    "name": "ipython",
    "version": 3
   },
   "file_extension": ".py",
   "mimetype": "text/x-python",
   "name": "python",
   "nbconvert_exporter": "python",
   "pygments_lexer": "ipython3",
   "version": "3.8.13"
  }
 },
 "nbformat": 4,
 "nbformat_minor": 5
}
