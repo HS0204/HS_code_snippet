{
 "cells": [
  {
   "cell_type": "markdown",
   "id": "e3252298",
   "metadata": {},
   "source": [
    "https://swexpertacademy.com/main/code/problem/problemDetail.do?problemLevel=2&contestProbId=AV189xUaI8UCFAZN&categoryId=AV189xUaI8UCFAZN&categoryType=CODE&problemTitle=&orderBy=FIRST_REG_DATETIME&selectCodeLang=ALL&select-1=2&pageSize=10&pageIndex=3"
   ]
  },
  {
   "cell_type": "markdown",
   "id": "8574f333",
   "metadata": {},
   "source": [
    "# 첫번째 오답 코드"
   ]
  },
  {
   "cell_type": "code",
   "execution_count": null,
   "id": "94d7167a",
   "metadata": {},
   "outputs": [],
   "source": [
    "T = int(input())\n",
    "answer = 0\n",
    "\n",
    "for test_case in range(1, T + 1):\n",
    "    p, q, r, s, w = map(int, input().split())\n",
    "    \n",
    "    a_company = p * w\n",
    "    b_company = q + ((w - r) * s)\n",
    "    \n",
    "    if a_company < b_company:\n",
    "        answer = a_company\n",
    "    elif a_company > b_company:\n",
    "        answer = b_company\n",
    "    \n",
    "    print(f\"#{test_case} {answer}\")"
   ]
  },
  {
   "cell_type": "markdown",
   "id": "c17d1d87",
   "metadata": {},
   "source": [
    "몇 개는 올바르게 맞추지만 몇 개는 오류가 났다.\n",
    "b company 구현이 문제였는데, 사용한 리터(w)에서 기준 리터(r)를 빼는 것은 좋지만 w < r일 경우 음수가 될 수도 있기 때문이다. 그래서 요금은 음수가 될 수 없다는 조건을 생각하고 다음과 같이 코드를 고쳤다."
   ]
  },
  {
   "cell_type": "markdown",
   "id": "404e153b",
   "metadata": {},
   "source": [
    "# Pass 코드"
   ]
  },
  {
   "cell_type": "code",
   "execution_count": null,
   "id": "21b457a8",
   "metadata": {},
   "outputs": [],
   "source": [
    "T = int(input())\n",
    "answer = 0\n",
    "\n",
    "for test_case in range(1, T + 1):\n",
    "    p, q, r, s, w = map(int, input().split())\n",
    "    \n",
    "    a_company = p * w\n",
    "    b_company = q + max(0, ((w - r) * s))\n",
    "    \n",
    "    if a_company < b_company:\n",
    "        answer = a_company\n",
    "    elif a_company > b_company:\n",
    "        answer = b_company\n",
    "    \n",
    "    print(f\"#{test_case} {answer}\")"
   ]
  },
  {
   "cell_type": "markdown",
   "id": "43063d22",
   "metadata": {},
   "source": [
    "# 수정 코드"
   ]
  },
  {
   "cell_type": "code",
   "execution_count": null,
   "id": "00c4644a",
   "metadata": {},
   "outputs": [],
   "source": [
    "T = int(input())\n",
    "answer = 0\n",
    "\n",
    "for test_case in range(1, T + 1):\n",
    "    p, q, r, s, w = map(int, input().split())\n",
    "    \n",
    "    a_company = p * w\n",
    "    b_company = q + max(0, ((w - r) * s))\n",
    "    \n",
    "    answer = min(a_company, b_company)\n",
    "    \n",
    "    print(f\"#{test_case} {answer}\")"
   ]
  }
 ],
 "metadata": {
  "kernelspec": {
   "display_name": "Python 3 (ipykernel)",
   "language": "python",
   "name": "python3"
  },
  "language_info": {
   "codemirror_mode": {
    "name": "ipython",
    "version": 3
   },
   "file_extension": ".py",
   "mimetype": "text/x-python",
   "name": "python",
   "nbconvert_exporter": "python",
   "pygments_lexer": "ipython3",
   "version": "3.9.7"
  }
 },
 "nbformat": 4,
 "nbformat_minor": 5
}
