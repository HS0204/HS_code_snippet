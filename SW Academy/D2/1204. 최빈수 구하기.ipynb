{
 "cells": [
  {
   "cell_type": "markdown",
   "id": "0a6ccf5f",
   "metadata": {},
   "source": [
    "https://swexpertacademy.com/main/code/problem/problemDetail.do?contestProbId=AV13zo1KAAACFAYh"
   ]
  },
  {
   "cell_type": "markdown",
   "id": "a7146f32",
   "metadata": {},
   "source": [
    "# 함수 활용 풀이"
   ]
  },
  {
   "cell_type": "code",
   "execution_count": null,
   "id": "016021d6",
   "metadata": {},
   "outputs": [],
   "source": [
    "T = int(input())\n",
    "\n",
    "for test_case in range(1, T + 1):\n",
    "    case = int(input())\n",
    "    data = list(map(int, input().split()))\n",
    "    \n",
    "    def mode(lst):\n",
    "        freq = {x:lst.count(x) for x in set(lst)}\n",
    "        if len(freq) == 1 or len(freq) == len(lst):\n",
    "            return None\n",
    "        else:\n",
    "            return [x for x in freq.keys() if freq[x] == max(freq.values())]\n",
    "     \n",
    "    answer = max(mode(data))\n",
    "\n",
    "    print(f\"#{test_case} {answer}\")"
   ]
  },
  {
   "cell_type": "markdown",
   "id": "7952c4a8",
   "metadata": {},
   "source": [
    "# 모듈 활용 풀이"
   ]
  },
  {
   "cell_type": "code",
   "execution_count": null,
   "id": "17b77908",
   "metadata": {},
   "outputs": [],
   "source": [
    "import collections\n",
    "\n",
    "T = int(input())\n",
    "\n",
    "for test_case in range(1, T + 1):\n",
    "    case = int(input())\n",
    "    data = list(map(int, input().split()))\n",
    "\n",
    "    print(f\"#{test_case} {collections.Counter(data).most_common(1)[0][0]}\")"
   ]
  }
 ],
 "metadata": {
  "kernelspec": {
   "display_name": "Python 3 (ipykernel)",
   "language": "python",
   "name": "python3"
  },
  "language_info": {
   "codemirror_mode": {
    "name": "ipython",
    "version": 3
   },
   "file_extension": ".py",
   "mimetype": "text/x-python",
   "name": "python",
   "nbconvert_exporter": "python",
   "pygments_lexer": "ipython3",
   "version": "3.9.7"
  }
 },
 "nbformat": 4,
 "nbformat_minor": 5
}
