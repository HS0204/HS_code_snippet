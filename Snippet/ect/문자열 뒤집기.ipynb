{
 "cells": [
  {
   "cell_type": "code",
   "execution_count": 2,
   "id": "2641e947",
   "metadata": {},
   "outputs": [],
   "source": [
    "word = \"hello\""
   ]
  },
  {
   "cell_type": "code",
   "execution_count": 3,
   "id": "e21cabd6",
   "metadata": {},
   "outputs": [
    {
     "name": "stdout",
     "output_type": "stream",
     "text": [
      "hello\n",
      "hlo\n",
      "olleh\n",
      "olh\n"
     ]
    }
   ],
   "source": [
    "print(word[::1])\n",
    "print(word[::2]) # 처음부터 2개씩 뛰어서\n",
    "print(word[::-1]) # 뒤에서부터 뒤집기\n",
    "print(word[::-2]) # 뒤에서부터 2개씩 뛰어서"
   ]
  },
  {
   "cell_type": "markdown",
   "id": "bc3742f2",
   "metadata": {},
   "source": [
    "---\n",
    "### 응용"
   ]
  },
  {
   "cell_type": "code",
   "execution_count": 4,
   "id": "932eb353",
   "metadata": {},
   "outputs": [
    {
     "name": "stdout",
     "output_type": "stream",
     "text": [
      "987654321\n"
     ]
    }
   ],
   "source": [
    "number = 123456789\n",
    "back_num = int(str(number)[::-1])\n",
    "\n",
    "print(back_num)"
   ]
  },
  {
   "cell_type": "markdown",
   "id": "61a5acec",
   "metadata": {},
   "source": [
    "N단 K항 입력 받아서 거꾸로 뒤집고 해당 값 중 가장 큰 것을 출력\n",
    "\n",
    "ex) 8단 9항 입력, lst = [8, 61, 42, 23, 04, 84, 65, 46, 27]"
   ]
  },
  {
   "cell_type": "code",
   "execution_count": null,
   "id": "68b41406",
   "metadata": {},
   "outputs": [],
   "source": [
    "N, K = map(int, input().split())\n",
    "lst = [int(str(N * i)[::-1]) for i in range(1, K+1)]\n",
    "\n",
    "print(max(lst))"
   ]
  }
 ],
 "metadata": {
  "kernelspec": {
   "display_name": "Python 3 (ipykernel)",
   "language": "python",
   "name": "python3"
  },
  "language_info": {
   "codemirror_mode": {
    "name": "ipython",
    "version": 3
   },
   "file_extension": ".py",
   "mimetype": "text/x-python",
   "name": "python",
   "nbconvert_exporter": "python",
   "pygments_lexer": "ipython3",
   "version": "3.8.13"
  }
 },
 "nbformat": 4,
 "nbformat_minor": 5
}
