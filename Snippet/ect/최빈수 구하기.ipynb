{
 "cells": [
  {
   "cell_type": "code",
   "execution_count": 9,
   "id": "ff1ce352",
   "metadata": {},
   "outputs": [],
   "source": [
    "lst = [1,1,1,2,3,2,3,245,9]"
   ]
  },
  {
   "cell_type": "markdown",
   "id": "2f2be55a",
   "metadata": {},
   "source": [
    "# collections 모듈 활용"
   ]
  },
  {
   "cell_type": "code",
   "execution_count": 10,
   "id": "6355beda",
   "metadata": {},
   "outputs": [
    {
     "name": "stdout",
     "output_type": "stream",
     "text": [
      "[(1, 3), (2, 2), (3, 2), (245, 1), (9, 1)]\n",
      "1\n"
     ]
    }
   ],
   "source": [
    "import collections\n",
    "\n",
    "mode = collections.Counter(lst).most_common()\n",
    "\n",
    "print(mode)\n",
    "print(mode[0][0])"
   ]
  },
  {
   "cell_type": "markdown",
   "id": "08b9210c",
   "metadata": {},
   "source": [
    "# 구현 함수 활용"
   ]
  },
  {
   "cell_type": "code",
   "execution_count": 11,
   "id": "618c6bb9",
   "metadata": {},
   "outputs": [
    {
     "name": "stdout",
     "output_type": "stream",
     "text": [
      "1\n"
     ]
    }
   ],
   "source": [
    "def mode(lst):\n",
    "        freq = {x:lst.count(x) for x in set(lst)}\n",
    "        if len(freq) == 1 or len(freq) == len(lst):\n",
    "            return None\n",
    "        else:\n",
    "            return [x for x in freq.keys() if freq[x] == max(freq.values())]\n",
    "        \n",
    "print(mode(lst)[0])"
   ]
  },
  {
   "cell_type": "code",
   "execution_count": null,
   "id": "66496aad",
   "metadata": {},
   "outputs": [],
   "source": []
  }
 ],
 "metadata": {
  "kernelspec": {
   "display_name": "Python 3 (ipykernel)",
   "language": "python",
   "name": "python3"
  },
  "language_info": {
   "codemirror_mode": {
    "name": "ipython",
    "version": 3
   },
   "file_extension": ".py",
   "mimetype": "text/x-python",
   "name": "python",
   "nbconvert_exporter": "python",
   "pygments_lexer": "ipython3",
   "version": "3.9.7"
  }
 },
 "nbformat": 4,
 "nbformat_minor": 5
}
