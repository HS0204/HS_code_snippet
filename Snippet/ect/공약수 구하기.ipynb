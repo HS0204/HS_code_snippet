{
 "cells": [
  {
   "cell_type": "markdown",
   "id": "ab57f8e3",
   "metadata": {},
   "source": [
    "### 수가 두 개일 때"
   ]
  },
  {
   "cell_type": "code",
   "execution_count": 1,
   "id": "250aeb03",
   "metadata": {},
   "outputs": [],
   "source": [
    "number = 36, 80\n",
    "result = []\n",
    "\n",
    "for i in range(1, min(number)+1):\n",
    "    if (number[0] % i == 0) and (number[1] % i == 0):\n",
    "        if i not in result:\n",
    "            result.append(i)"
   ]
  },
  {
   "cell_type": "code",
   "execution_count": 2,
   "id": "4de5d8c8",
   "metadata": {},
   "outputs": [
    {
     "name": "stdout",
     "output_type": "stream",
     "text": [
      "1\n",
      "2\n",
      "4\n"
     ]
    }
   ],
   "source": [
    "for v in result:\n",
    "    print(v)"
   ]
  },
  {
   "cell_type": "markdown",
   "id": "31a58749",
   "metadata": {},
   "source": [
    "### 수가 세 개 일 때"
   ]
  },
  {
   "cell_type": "code",
   "execution_count": 3,
   "id": "7d1b7065",
   "metadata": {},
   "outputs": [],
   "source": [
    "number = 36, 80, 120\n",
    "result = []\n",
    "\n",
    "for i in range(1, min(number)+1):\n",
    "    if (number[0] % i == 0) and (number[1] % i == 0) and (number[2] % i == 0):\n",
    "        if i not in result:\n",
    "            result.append(i)"
   ]
  },
  {
   "cell_type": "code",
   "execution_count": 4,
   "id": "0427b6ca",
   "metadata": {},
   "outputs": [
    {
     "name": "stdout",
     "output_type": "stream",
     "text": [
      "1\n",
      "2\n",
      "4\n"
     ]
    }
   ],
   "source": [
    "for v in result:\n",
    "    print(v)"
   ]
  },
  {
   "cell_type": "code",
   "execution_count": null,
   "id": "7a9bdc53",
   "metadata": {},
   "outputs": [],
   "source": []
  }
 ],
 "metadata": {
  "kernelspec": {
   "display_name": "Python 3 (ipykernel)",
   "language": "python",
   "name": "python3"
  },
  "language_info": {
   "codemirror_mode": {
    "name": "ipython",
    "version": 3
   },
   "file_extension": ".py",
   "mimetype": "text/x-python",
   "name": "python",
   "nbconvert_exporter": "python",
   "pygments_lexer": "ipython3",
   "version": "3.8.13"
  }
 },
 "nbformat": 4,
 "nbformat_minor": 5
}
