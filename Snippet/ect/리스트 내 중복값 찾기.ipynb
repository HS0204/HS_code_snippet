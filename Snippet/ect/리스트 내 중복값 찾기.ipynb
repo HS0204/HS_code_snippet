{
 "cells": [
  {
   "cell_type": "code",
   "execution_count": 1,
   "id": "343ed425",
   "metadata": {},
   "outputs": [],
   "source": [
    "list = [1, 1, 2, 3]"
   ]
  },
  {
   "cell_type": "code",
   "execution_count": 2,
   "id": "0422aa9c",
   "metadata": {},
   "outputs": [],
   "source": [
    "def dup(list):\n",
    "    temp_list = []\n",
    "    for v in list:\n",
    "        if v not in temp_list:\n",
    "            temp_list.append(v)\n",
    "            continue\n",
    "        if v in temp_list:\n",
    "            return v"
   ]
  },
  {
   "cell_type": "code",
   "execution_count": 3,
   "id": "d57f2841",
   "metadata": {},
   "outputs": [
    {
     "data": {
      "text/plain": [
       "1"
      ]
     },
     "execution_count": 3,
     "metadata": {},
     "output_type": "execute_result"
    }
   ],
   "source": [
    "dup(list)"
   ]
  },
  {
   "cell_type": "markdown",
   "id": "40207623",
   "metadata": {},
   "source": [
    "---"
   ]
  },
  {
   "cell_type": "markdown",
   "id": "632441a8",
   "metadata": {},
   "source": [
    "### 응용"
   ]
  },
  {
   "cell_type": "code",
   "execution_count": 5,
   "id": "b99b1bab",
   "metadata": {},
   "outputs": [
    {
     "name": "stdout",
     "output_type": "stream",
     "text": [
      "1\n"
     ]
    }
   ],
   "source": [
    "temp_list = []\n",
    "word = \"hello\"\n",
    "result = 1\n",
    "  \n",
    "for i in range(0, len(word)):\n",
    "    if word[i] not in temp_list: # 문자열에서 처음 나온 문자 저장\n",
    "        temp_list.append(word[i])\n",
    "        continue\n",
    "    if word[i] in temp_list: # 재등장한 문자일 경우\n",
    "        if word[i] != word[i-1]: # 이전 문자와 해당 문자가 동일하지 않을 때\n",
    "            result -= 1 # 그룹 단어가 아님\n",
    "            break # 해당 단어 탐색 종료\n",
    "    \n",
    "print(result)"
   ]
  }
 ],
 "metadata": {
  "kernelspec": {
   "display_name": "Python 3 (ipykernel)",
   "language": "python",
   "name": "python3"
  },
  "language_info": {
   "codemirror_mode": {
    "name": "ipython",
    "version": 3
   },
   "file_extension": ".py",
   "mimetype": "text/x-python",
   "name": "python",
   "nbconvert_exporter": "python",
   "pygments_lexer": "ipython3",
   "version": "3.8.13"
  }
 },
 "nbformat": 4,
 "nbformat_minor": 5
}
