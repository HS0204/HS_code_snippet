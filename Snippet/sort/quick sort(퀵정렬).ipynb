{
 "cells": [
  {
   "cell_type": "code",
   "execution_count": null,
   "id": "05703c5d",
   "metadata": {},
   "outputs": [],
   "source": [
    "def quickSort(array):\n",
    "    # array의 길이가 0이나 1일 때 정렬된 상태\n",
    "    if len(array) <= 1:\n",
    "        return array\n",
    "    \n",
    "    pivot = array[0]\n",
    "    \n",
    "    left_arr = get_small(array[1:], pivot)\n",
    "    right_arr = get_large(array[1:], pivot)\n",
    "    \n",
    "    return quickSort(left_arr) + [pivot] + quickSort(right_arr)\n",
    "    \n",
    "def get_small(array, pivot):\n",
    "    data = []\n",
    "    \n",
    "    for i in array:\n",
    "        if i <= pivot :\n",
    "            data.append(i)\n",
    "    \n",
    "    return data\n",
    "\n",
    "def get_large(array, pivot):\n",
    "    data = []\n",
    "    \n",
    "    for i in array:\n",
    "        if i > pivot :\n",
    "            data.append(i)\n",
    "    \n",
    "    return data"
   ]
  },
  {
   "cell_type": "markdown",
   "id": "fade7e53",
   "metadata": {},
   "source": [
    "재귀호출을 사용한 대표적인 정렬 알고리즘. 이전 단계의 값이 구해졌을 때 실행된다는 개념을 기억하자."
   ]
  },
  {
   "cell_type": "markdown",
   "id": "637f2abf",
   "metadata": {},
   "source": [
    "1. 배열의 가장 앞쪽을 피봇으로 정한다.\n",
    "2. 피봇을 기준으로 작거나 같은 수는 피봇의 왼쪽에,\n",
    "3. 피봇을 기준으로 큰 수는 피봇의 오른쪽에 둔다."
   ]
  },
  {
   "cell_type": "markdown",
   "id": "74a90b31",
   "metadata": {},
   "source": [
    "위 개념을 반복하다보면 원소가 하나가 되어 더 이상 정렬이 불가능한데, 따라서 원소가 하나거나 0개일 때는 정렬된 상태로 본다. --> 기저조건"
   ]
  },
  {
   "cell_type": "code",
   "execution_count": null,
   "id": "3f119ae3",
   "metadata": {},
   "outputs": [],
   "source": []
  }
 ],
 "metadata": {
  "kernelspec": {
   "display_name": "Python 3 (ipykernel)",
   "language": "python",
   "name": "python3"
  },
  "language_info": {
   "codemirror_mode": {
    "name": "ipython",
    "version": 3
   },
   "file_extension": ".py",
   "mimetype": "text/x-python",
   "name": "python",
   "nbconvert_exporter": "python",
   "pygments_lexer": "ipython3",
   "version": "3.9.12"
  }
 },
 "nbformat": 4,
 "nbformat_minor": 5
}
