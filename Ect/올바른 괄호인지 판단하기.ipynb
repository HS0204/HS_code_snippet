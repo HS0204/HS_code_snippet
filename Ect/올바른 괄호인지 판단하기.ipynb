{
 "cells": [
  {
   "cell_type": "markdown",
   "id": "dab977e5",
   "metadata": {},
   "source": [
    "# 문제\n",
    "본 문제에서는 입력으로 주어지는 괄호가 올바른 괄호인지를 판단하는 프로그램을 작성합니다.\n",
    "\n",
    "예를 들어, ‘(())’ 은 올바른 괄호이지만, ‘(()))’, 혹은 ‘(()()(‘ 는 올바른 괄호가 아닙니다.\n",
    "\n",
    "올바른 괄호일때 ‘YES’를, 올바르지 않은 괄호일때 ‘NO’를 출력해 봅시다."
   ]
  },
  {
   "cell_type": "markdown",
   "id": "3453a7ec",
   "metadata": {},
   "source": [
    "### 입출력 예시(1)\n",
    "(())()\n",
    "\n",
    "YES"
   ]
  },
  {
   "cell_type": "markdown",
   "id": "664531bd",
   "metadata": {},
   "source": [
    "### 입출력 예시(2)\n",
    "(((())())(()())((())()))\n",
    "\n",
    "YES"
   ]
  },
  {
   "cell_type": "markdown",
   "id": "9c356244",
   "metadata": {},
   "source": [
    "### 입출력 예시(3)\n",
    "(())())()\n",
    "\n",
    "No"
   ]
  },
  {
   "cell_type": "markdown",
   "id": "e9bd8909",
   "metadata": {},
   "source": [
    "### 입출력 예시(4)\n",
    "((()())(()())))(())\n",
    "\n",
    "NO"
   ]
  },
  {
   "cell_type": "markdown",
   "id": "46bbe7e5",
   "metadata": {},
   "source": [
    "---"
   ]
  },
  {
   "cell_type": "markdown",
   "id": "deec142b",
   "metadata": {},
   "source": [
    "## 정답 코드"
   ]
  },
  {
   "cell_type": "code",
   "execution_count": 1,
   "id": "22e4f898",
   "metadata": {},
   "outputs": [
    {
     "name": "stdout",
     "output_type": "stream",
     "text": [
      "(())()\n",
      "YES\n"
     ]
    }
   ],
   "source": [
    "def checkParen(p):\n",
    "    \n",
    "    if len(p) == 0:\n",
    "        return \"YES\"\n",
    "    elif len(p) == 1:\n",
    "        return \"NO\"\n",
    "        \n",
    "    for i in range(len(p)-1): # 문자열 길이에 맞는 범위 설정\n",
    "        if p[i] == '(' and p[i+1] == ')':\n",
    "            q = p[:i] + p[i+2:] # 괄호가 제거된 문자열 q에 저장\n",
    "            return checkParen(q)\n",
    "\n",
    "    return \"NO\"\n",
    "\n",
    "if __name__ == \"__main__\":\n",
    "    x = input()\n",
    "    print(checkParen(x))\n",
    "\n",
    "\n"
   ]
  },
  {
   "cell_type": "markdown",
   "id": "007add5d",
   "metadata": {},
   "source": [
    "괄호 문자열 p의 쌍이 맞으면 \"YES\", 아니면  \"NO\"를 반환한다. 다음과 같은 순으로 풀어갔다.\n",
    "1. 기저조건 처리\n",
    "2. p에서 인접한 괄호쌍 찾아 제거\n",
    "3. checkParen() 함수에 다시 물어보기"
   ]
  },
  {
   "cell_type": "markdown",
   "id": "0f8523ab",
   "metadata": {},
   "source": [
    "## 참고사항) 재귀함수 디자인\n",
    "1. 함수 정의\n",
    "2. 기저 조건(basic condition) 확인\n",
    "3. 동작 설계"
   ]
  },
  {
   "cell_type": "code",
   "execution_count": null,
   "id": "9fc68602",
   "metadata": {},
   "outputs": [],
   "source": []
  }
 ],
 "metadata": {
  "kernelspec": {
   "display_name": "Python 3 (ipykernel)",
   "language": "python",
   "name": "python3"
  },
  "language_info": {
   "codemirror_mode": {
    "name": "ipython",
    "version": 3
   },
   "file_extension": ".py",
   "mimetype": "text/x-python",
   "name": "python",
   "nbconvert_exporter": "python",
   "pygments_lexer": "ipython3",
   "version": "3.9.12"
  }
 },
 "nbformat": 4,
 "nbformat_minor": 5
}
