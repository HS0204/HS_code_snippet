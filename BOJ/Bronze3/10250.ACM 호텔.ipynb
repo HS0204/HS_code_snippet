{
 "cells": [
  {
   "cell_type": "markdown",
   "id": "44f3b14a",
   "metadata": {},
   "source": [
    "https://www.acmicpc.net/problem/10250"
   ]
  },
  {
   "cell_type": "markdown",
   "id": "3b0eb801",
   "metadata": {},
   "source": [
    "### 아이디어"
   ]
  },
  {
   "cell_type": "markdown",
   "id": "a40044ae",
   "metadata": {},
   "source": [
    "리스트로 객실을 문제와 같이 구현하고 해당 층을 찾는 공식을 구하면?"
   ]
  },
  {
   "cell_type": "markdown",
   "id": "aafa3dc0",
   "metadata": {},
   "source": [
    "### 오답 코드"
   ]
  },
  {
   "cell_type": "markdown",
   "id": "80511118",
   "metadata": {},
   "source": [
    "리스트를 선언하여 해당 리스트에 모든 객실 호수를 값으로 넣고 원하는 객실을 선택하여 출력하였더니 런타임 오류가 났다."
   ]
  },
  {
   "cell_type": "code",
   "execution_count": null,
   "id": "2df53081",
   "metadata": {},
   "outputs": [],
   "source": [
    "import math\n",
    "\n",
    "T = int(input())\n",
    "\n",
    "for _ in range(T):\n",
    "    H, W, N = map(int, input().split())\n",
    "    arr = [[0 for col in range(W)] for row in range(H)]\n",
    "\n",
    "    for i in range(H):\n",
    "        for j in range(W):\n",
    "            arr[i][j] = ((H - i)*100) + j + 1\n",
    "\n",
    "    room_high = H - N%H\n",
    "    room_num = math.ceil(N/H) - 1\n",
    "    print(arr[room_high][room_num])"
   ]
  },
  {
   "cell_type": "markdown",
   "id": "86304bda",
   "metadata": {},
   "source": [
    "리스트를 선언하는 부분을 삭제하고 객실 호수를 찾아내는 아이디어만 살려서 작성한 코드.\n",
    "\n",
    "그러나 최고층 객실일 때는 객실의 층수를 나타내는 값이 0이되어 객실의 호수가 해당 층의 몇번째인지만 출력되어 오류가 났다."
   ]
  },
  {
   "cell_type": "code",
   "execution_count": null,
   "id": "7768bd46",
   "metadata": {},
   "outputs": [],
   "source": [
    "import math\n",
    "\n",
    "T = int(input())\n",
    "\n",
    "for _ in range(T):\n",
    "    H, W, N = map(int, input().split())\n",
    "\n",
    "    room_high = N%H\n",
    "    room_num = math.ceil(N/H)\n",
    "    print(room_high * 100 + room_num)"
   ]
  },
  {
   "cell_type": "markdown",
   "id": "ca662ebb",
   "metadata": {},
   "source": [
    "### 정답 코드"
   ]
  },
  {
   "cell_type": "markdown",
   "id": "0a5cddd7",
   "metadata": {},
   "source": [
    "나머지 값이 0이 되어 층수가 사라지는 경우를 보완하는 조건문을 추가하였다."
   ]
  },
  {
   "cell_type": "code",
   "execution_count": null,
   "id": "94bc7654",
   "metadata": {},
   "outputs": [],
   "source": [
    "import math\n",
    "\n",
    "T = int(input())\n",
    "\n",
    "for _ in range(T):\n",
    "    H, W, N = map(int, input().split())\n",
    "\n",
    "    room_high = N%H\n",
    "    if room_high == 0:\n",
    "        room_high = H\n",
    "    room_num = math.ceil(N/H)\n",
    "    print(room_high * 100 + room_num)"
   ]
  }
 ],
 "metadata": {
  "kernelspec": {
   "display_name": "Python 3 (ipykernel)",
   "language": "python",
   "name": "python3"
  },
  "language_info": {
   "codemirror_mode": {
    "name": "ipython",
    "version": 3
   },
   "file_extension": ".py",
   "mimetype": "text/x-python",
   "name": "python",
   "nbconvert_exporter": "python",
   "pygments_lexer": "ipython3",
   "version": "3.8.13"
  }
 },
 "nbformat": 4,
 "nbformat_minor": 5
}
