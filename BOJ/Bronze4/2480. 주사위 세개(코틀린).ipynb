{
 "cells": [
  {
   "cell_type": "markdown",
   "id": "ecbd9d32",
   "metadata": {},
   "source": [
    "https://www.acmicpc.net/problem/2480"
   ]
  },
  {
   "cell_type": "markdown",
   "id": "5ff14a0d",
   "metadata": {},
   "source": [
    "### 함수를 만든 경우"
   ]
  },
  {
   "cell_type": "code",
   "execution_count": null,
   "id": "5590cb34",
   "metadata": {},
   "outputs": [],
   "source": [
    "import java.util.Scanner\n",
    "\n",
    "fun main(){\n",
    "    val sc = Scanner(System.`in`)\n",
    "    val a = sc.nextInt()\n",
    "    val b = sc.nextInt()\n",
    "    val c = sc.nextInt()\n",
    "    \n",
    "    if(a==b && b==c){\n",
    "        println(10000+a*1000)\n",
    "    }else if(a==b || a==c || b==c){\n",
    "        if(a==b)\n",
    "            println(1000+a*100)\n",
    "        else if(a==c)\n",
    "            println(1000+a*100)\n",
    "        else\n",
    "            println(1000+b*100)\n",
    "    }else if(a!=b && b!=c){\n",
    "        println(max(a, b, c)*100)\n",
    "    }\n",
    "}\n",
    "\n",
    "fun max(a:Int, b:Int, c:Int):Int {\n",
    "    var max = 0\n",
    "    \n",
    "    if(a > max)\n",
    "        max = a\n",
    "    if(b > max)\n",
    "        max = b\n",
    "    if(c > max)\n",
    "        max = c\n",
    "    \n",
    "    return max\n",
    "}"
   ]
  },
  {
   "cell_type": "markdown",
   "id": "c788cd92",
   "metadata": {},
   "source": [
    "### java Collection 활용한 경우"
   ]
  },
  {
   "cell_type": "code",
   "execution_count": null,
   "id": "0c59f0c0",
   "metadata": {},
   "outputs": [],
   "source": [
    "import java.util.Scanner\n",
    "import java.util.Collections\n",
    "\n",
    "fun main() = with(Scanner(System.`in`)){\n",
    "    val a = nextInt()\n",
    "    val b = nextInt()\n",
    "    val c = nextInt()\n",
    "    val nums = listOf(a, b, c)\n",
    "    \n",
    "    if(a==b && b==c){\n",
    "        println(10000+a*1000)\n",
    "    }else if(a==b || a==c || b==c){\n",
    "        if(a==b)\n",
    "            println(1000+a*100)\n",
    "        else if(a==c)\n",
    "            println(1000+a*100)\n",
    "        else\n",
    "            println(1000+b*100)\n",
    "    }else if(a!=b && b!=c){\n",
    "        println(Collections.max(nums)*100)\n",
    "    }\n",
    "}"
   ]
  },
  {
   "cell_type": "markdown",
   "id": "19248413",
   "metadata": {},
   "source": [
    "자체 함수를 만들었을 때는 13,240 KB 메모리 | 156ms  \n",
    "Collection을 활용했을 때는 19,012 KB 메모리 | 116ms"
   ]
  }
 ],
 "metadata": {
  "kernelspec": {
   "display_name": "Python 3 (ipykernel)",
   "language": "python",
   "name": "python3"
  },
  "language_info": {
   "codemirror_mode": {
    "name": "ipython",
    "version": 3
   },
   "file_extension": ".py",
   "mimetype": "text/x-python",
   "name": "python",
   "nbconvert_exporter": "python",
   "pygments_lexer": "ipython3",
   "version": "3.8.13"
  }
 },
 "nbformat": 4,
 "nbformat_minor": 5
}
