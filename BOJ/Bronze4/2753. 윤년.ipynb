{
 "cells": [
  {
   "cell_type": "markdown",
   "id": "705489f9",
   "metadata": {},
   "source": [
    "https://www.acmicpc.net/problem/2753"
   ]
  },
  {
   "cell_type": "code",
   "execution_count": null,
   "id": "8b8aab00",
   "metadata": {},
   "outputs": [],
   "source": [
    "year = int(input())\n",
    "\n",
    "if (year % 4 == 0 and year % 100 != 0) or year % 400 == 0:\n",
    "    print(\"1\")\n",
    "else:\n",
    "    print(\"0\")"
   ]
  },
  {
   "cell_type": "markdown",
   "id": "2f09a668",
   "metadata": {},
   "source": [
    "조건문을 잘 입력하자. 처음에는 괄호 없이 무작정 입력했다가 틀렸다."
   ]
  },
  {
   "cell_type": "code",
   "execution_count": null,
   "id": "4e3bd5b3",
   "metadata": {},
   "outputs": [],
   "source": []
  }
 ],
 "metadata": {
  "kernelspec": {
   "display_name": "Python 3 (ipykernel)",
   "language": "python",
   "name": "python3"
  },
  "language_info": {
   "codemirror_mode": {
    "name": "ipython",
    "version": 3
   },
   "file_extension": ".py",
   "mimetype": "text/x-python",
   "name": "python",
   "nbconvert_exporter": "python",
   "pygments_lexer": "ipython3",
   "version": "3.8.13"
  }
 },
 "nbformat": 4,
 "nbformat_minor": 5
}
