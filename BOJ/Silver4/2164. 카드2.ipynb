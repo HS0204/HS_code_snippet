{
 "cells": [
  {
   "cell_type": "markdown",
   "id": "b457c8e0",
   "metadata": {},
   "source": [
    "https://www.acmicpc.net/problem/2164"
   ]
  },
  {
   "cell_type": "markdown",
   "id": "f9bc24c4",
   "metadata": {},
   "source": [
    "#### 문제해석\n",
    "카드 장수가 주어지고 그 수만큼 오름차순으로 카드의 번호가 놓인다.\n",
    "1. 맨 위의 카드를 버린다.\n",
    "2. 가장 위에 놓여있는 카드를 가장 아래로 보낸다.\n",
    "3. 1과 2를 반복하여 마지막으로 남는 하나의 카드 번호를 출력한다.\n",
    "\n",
    "#### 배경지식\n",
    "덱 or 큐 -> 덱으로 풀기\n",
    "\n",
    "#### 문제해결\n",
    "***첫번째 아이디어***  \n",
    "range(1, len()+1)만큼 반복문을 돌려 진행하는데 홀수 경우에는 맨 위 카드를 버리고, 짝수 경우에는 맨 위 카드를 조회하여 제거한 뒤 해당 조회값을 맨 뒤에 넣는다.\n",
    "\n",
    "***두번째 아이디어***  \n",
    "첫번째 카드는 빼버리고 두번째 카드는 빼버린 뒤 가장 마지막에 저장한다. 첫번째 카드를 빼버리면 자연스럽게 그 다음에 나오는 카드가 두번째 카드가 되므로 이 과정을 한 코드에 작성한다.\n",
    "--> 이 방법을 활용하면 첫번째 아이디어에서 짝홀을 구분할 필요가 없어져 코드가 간단해진다."
   ]
  },
  {
   "cell_type": "code",
   "execution_count": null,
   "id": "35767d5c",
   "metadata": {},
   "outputs": [],
   "source": [
    "from collections import deque\n",
    "\n",
    "N = int(input())\n",
    "dq = deque()\n",
    "\n",
    "for i in range(1, N+1):\n",
    "    dq.append(i)\n",
    "\n",
    "while len(dq) > 1:\n",
    "    dq.popleft()\n",
    "    dq.append(dq.popleft())\n",
    "\n",
    "print(*dq)"
   ]
  },
  {
   "cell_type": "markdown",
   "id": "d34b7ece",
   "metadata": {},
   "source": [
    "#### 시간복잡도\n",
    "덱에서 값을 넣고 빼는 것은 모두 O(1)의 시간복잡도를 가진다. 때문에 값을 입력하는 for문의 O(N)과 찾는 while문의 O(N)을 더해 총 O(N)이 해당 코드의 시간복잡도가 되기 때문에 문제를 풀 수 있다."
   ]
  }
 ],
 "metadata": {
  "kernelspec": {
   "display_name": "Python 3 (ipykernel)",
   "language": "python",
   "name": "python3"
  },
  "language_info": {
   "codemirror_mode": {
    "name": "ipython",
    "version": 3
   },
   "file_extension": ".py",
   "mimetype": "text/x-python",
   "name": "python",
   "nbconvert_exporter": "python",
   "pygments_lexer": "ipython3",
   "version": "3.8.13"
  }
 },
 "nbformat": 4,
 "nbformat_minor": 5
}
