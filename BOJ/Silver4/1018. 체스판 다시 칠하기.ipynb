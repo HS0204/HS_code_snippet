{
 "cells": [
  {
   "cell_type": "markdown",
   "id": "45c7c0cd",
   "metadata": {},
   "source": [
    "https://www.acmicpc.net/problem/1018"
   ]
  },
  {
   "cell_type": "code",
   "execution_count": null,
   "id": "b22cef56",
   "metadata": {},
   "outputs": [],
   "source": [
    "N, M = map(int, input().split())\n",
    "\n",
    "chess = []\n",
    "count = []\n",
    "\n",
    "for _ in range(N):\n",
    "    chess.append(input())\n",
    "\n",
    "for n in range(N-7):\n",
    "    for m in range(M-7):\n",
    "        startW = 0\n",
    "        startB = 0\n",
    "        for i in range(n, n+8):\n",
    "            for j in range(m, m+8):\n",
    "                if (i+j) % 2 == 0:\n",
    "                    if chess[i][j] != 'W':\n",
    "                        startW += 1\n",
    "                    if chess[i][j] != 'B':\n",
    "                        startB += 1\n",
    "                else:\n",
    "                    if chess[i][j] != 'B':\n",
    "                        startW += 1\n",
    "                    if chess[i][j] != 'W':\n",
    "                        startB += 1\n",
    "        count.append(min(startW, startB))\n",
    "\n",
    "print(min(count))"
   ]
  },
  {
   "cell_type": "markdown",
   "id": "7822730e",
   "metadata": {},
   "source": [
    "### 문제 해석"
   ]
  },
  {
   "cell_type": "markdown",
   "id": "f25bbd1d",
   "metadata": {},
   "source": [
    "먼저 체스판이 어떻게 생겼는지 생각해야 한다. 검은색과 흰색이 번갈아 나타난다. 따라서 3x3 체스판을 배열로 나타난다 하였을 때  \n",
    "\n",
    "[0][0] [0][1] [0][2]  \n",
    "[1][0] [1][1] [1][2]  \n",
    "[2][0] [2][1] [2][2]  \n",
    "\n",
    "위와 같은 형태가 되는데, <u>두 인덱스의 합이 홀수인 경우와 짝수인 경우로 번갈아 나타나는 모양을 표현</u>할 수 있다.  \n",
    "\n",
    "이 다음으로 고려할 것은 입력으로 주어지는 크기의 체스판에서 <u>임의의 공간 8x8</u>만큼 잘라서 체스판이 올바르게 색칠되어 있는지 확인한다는 것이다.\n",
    "\n",
    "더불어 문제에서 요구한 다시 칠해야하는 구역에서 최소 개수라는 점도 중요하다. 이 문장 하나에서 다시 <u>칠할 수 있는 경우는 흰색인 경우와 검은색인 경우 두 가지</u>가 있고, 8x8 구역은 원래 주어진 구역에서 몇 개가 임의로 나올지 알 수 없다는 점을 유의 해야 한다.\n",
    "\n",
    "최종적으로 다음 세 가지를 가장 주의 깊게 봐야 한다.\n",
    "1. 체스판은 <b>홀수일 때와 짝수일 때 색이 다르게</b> 나타난다.\n",
    "2. 전체 체스판에서 <b>8x8 구역을 골라야</b> 하는데 고려해야 하는 구역의 수는 전체 체스판 크기에 달렸고 여러 개가 나올 수 있다.\n",
    "3. 골라낸 하나의 8x8 구역에서도 <b>검은색을 새로 칠할 때와 흰색을 새로 칠할 때 중 어느 것이 더 최소인지</b> 생각해야 한다."
   ]
  },
  {
   "cell_type": "markdown",
   "id": "367d0f2f",
   "metadata": {},
   "source": [
    "### 코드 설명"
   ]
  },
  {
   "cell_type": "code",
   "execution_count": null,
   "id": "52362616",
   "metadata": {},
   "outputs": [],
   "source": [
    "N, M = map(int, input().split())\n",
    "\n",
    "chess = []\n",
    "count = []\n",
    "\n",
    "for _ in range(N):\n",
    "    chess.append(input())\n",
    "\n",
    "# 임의로 잘라낸 8x8 체스판\n",
    "for n in range(N-7):\n",
    "    for m in range(M-7):\n",
    "        startW = 0 # 흰색 시작점이라 가정한 경우(짝수 흰색 홀수 검은색: A) 색 변경 횟수\n",
    "        startB = 0 # 검은색 시작점이라 가정한 경우(짝수 검은색 홀수 흰색: B) 색 변경 횟수\n",
    "        # 임의의 체스판에서 색깔 올바른지 확인\n",
    "        for i in range(n, n+8):\n",
    "            for j in range(m, m+8):\n",
    "                # 짝수인 경우와 홀수인 경우가 색이 달라야 하는 체스판 무늬\n",
    "                # A) 시작점 흰색 가정 -> 짝수 흰색 홀수 검은색\n",
    "                # B) 시작점 검은색 가정 -> 짝수 검은색 홀수 흰색\n",
    "                if (i+j) % 2 == 0:\n",
    "                    if chess[i][j] != 'W': # A) 짝수 흰색이어야 하는데 아닐 때\n",
    "                        startW += 1\n",
    "                    if chess[i][j] != 'B': # B) 짝수 검은색이어야 하는데 아닐 때\n",
    "                        startB += 1\n",
    "                else:\n",
    "                    if chess[i][j] != 'B': # A) 홀수 검은색이어야 하는데 아닐 때\n",
    "                        startW += 1\n",
    "                    if chess[i][j] != 'W': # B) 홀수 흰색이어야 하는데 아닐 때\n",
    "                        startB += 1\n",
    "        # 흰색 바꾸는 횟수와 검은색 바꾸는 횟수 중 작은 것 저장\n",
    "        count.append(min(startW, startB))\n",
    "\n",
    "print(min(count))"
   ]
  },
  {
   "cell_type": "markdown",
   "id": "39a7cb44",
   "metadata": {},
   "source": [
    "### 어려웠던 점"
   ]
  },
  {
   "cell_type": "markdown",
   "id": "1845b7ee",
   "metadata": {},
   "source": [
    "구현은 쉬웠지만 문제 해석이 가장 어려웠다. 문제에서 고려할 조건까지 다 알려주긴 했지만 <b><i>맨 왼쪽 위 칸이 흰색인 경우</i></b> 이 설명 해석이 모호하게 느껴져서 오래 걸렸다.  \n",
    "추가로 3번 조건 접근에도 생각을 바꾸느라 쉽지 않았다. 짝흰홀검/짝검흰홀에 너무 몰두했다. 그래서 임의의 8x8 구역의 [0][0]이 흰색인지 검은색인지에 따라 다음 조건문을 써야한다고 착각했기 때문이다. 이 문제는 해당 경우가 가정되어서 두 경우를 비교해서 최소 변경 횟수를 찾아내는 것이다. 단계를 너무 건너뛰지 말고 조건을 작은 것부터 하나씩 차근차근 푸는 연습을 하도록 하자."
   ]
  },
  {
   "cell_type": "code",
   "execution_count": null,
   "id": "a78994a1",
   "metadata": {},
   "outputs": [],
   "source": []
  }
 ],
 "metadata": {
  "kernelspec": {
   "display_name": "Python 3 (ipykernel)",
   "language": "python",
   "name": "python3"
  },
  "language_info": {
   "codemirror_mode": {
    "name": "ipython",
    "version": 3
   },
   "file_extension": ".py",
   "mimetype": "text/x-python",
   "name": "python",
   "nbconvert_exporter": "python",
   "pygments_lexer": "ipython3",
   "version": "3.8.13"
  }
 },
 "nbformat": 4,
 "nbformat_minor": 5
}
