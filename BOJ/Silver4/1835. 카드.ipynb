{
 "cells": [
  {
   "cell_type": "markdown",
   "id": "0ab9b4da",
   "metadata": {},
   "source": [
    "https://www.acmicpc.net/problem/1835"
   ]
  },
  {
   "cell_type": "markdown",
   "id": "39bb6e5c",
   "metadata": {},
   "source": [
    "### 문제해석\n",
    "숫자가 적힌 카드가 있다. 앞에 있는 카드를 가장 뒤로 옮기고, 그 다음 드러난 카드를 책상 위에 올려야 하는데 이때 올려진 카드는 오름차순으로 나타나야 한다. 책상에 올라가려면 카드가 1, 2, 3, 4 이렇게 되어야 한다는 거다. 만일 카드를 뺐는데 가장 위에 있는 번호가 필요로 하는 오름차순이 아니라면(1을 뺐을 때 2를 빼야 하는데 3이 위에 있다면) 해당 수가 가장 앞으로 나올 때까지 카드를 뒤로 옮긴다. 이 마술이 가능한 번호의 순서는?\n",
    "\n",
    "### 배경지식\n",
    "덱 or 큐 --> 거꾸로 수행하는 방법을 채택해서 덱이 좀 더 직관적\n",
    "\n",
    "### 문제해결\n",
    "문제해석을 **거꾸로 수행**하면 어떨까? 가장 큰 수를 덱의 끝에 넣고, 그 수만큼 반복을 하게 되는데 덱에서 가장 앞쪽의 카드를 뽑아서 그것을 덱의 가장 뒤에 넣는 것이다. 힌트에서도 추가 단서를 얻자면 <u>가장 앞에 있는 것을 뒤로 옮기게 되는 과정</u>을 오름차순으로 반복했다."
   ]
  },
  {
   "cell_type": "code",
   "execution_count": null,
   "id": "fcb5c7e8",
   "metadata": {},
   "outputs": [],
   "source": [
    "from collections import deque\n",
    "\n",
    "N = int(input())\n",
    "dq = deque()\n",
    "\n",
    "for i in range(N):\n",
    "    num = N - i\n",
    "    dq.appendleft(num)\n",
    "    for _ in range(num):\n",
    "        dq.appendleft(dq.pop())\n",
    "\n",
    "print(*dq)"
   ]
  },
  {
   "cell_type": "markdown",
   "id": "248ee2e6",
   "metadata": {},
   "source": [
    "### 시간복잡도\n",
    "덱에서 값을 삽입하고 삭제하는 것은 O(1)의 시간복잡도를 가진다. 반복문 두 개가 중첩되어 돌아가므로 O(1 * 1* 1* N * N) = O(N제곱)의 시간복잡도를 가지게 된다. 주어진 시간 2초고, 가장 큰 카드의 개수가 1000개 이므로 10의 16제곱보다 1000의 제곱이 작기 때문에 시간 내에 문제를 풀 수 있다."
   ]
  },
  {
   "cell_type": "code",
   "execution_count": null,
   "id": "cb5c87a1",
   "metadata": {},
   "outputs": [],
   "source": []
  }
 ],
 "metadata": {
  "kernelspec": {
   "display_name": "Python 3 (ipykernel)",
   "language": "python",
   "name": "python3"
  },
  "language_info": {
   "codemirror_mode": {
    "name": "ipython",
    "version": 3
   },
   "file_extension": ".py",
   "mimetype": "text/x-python",
   "name": "python",
   "nbconvert_exporter": "python",
   "pygments_lexer": "ipython3",
   "version": "3.8.13"
  }
 },
 "nbformat": 4,
 "nbformat_minor": 5
}
