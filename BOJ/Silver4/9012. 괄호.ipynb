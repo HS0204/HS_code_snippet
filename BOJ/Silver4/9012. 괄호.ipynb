{
 "cells": [
  {
   "cell_type": "markdown",
   "id": "1523f6f6",
   "metadata": {},
   "source": [
    "https://www.acmicpc.net/problem/9012"
   ]
  },
  {
   "cell_type": "markdown",
   "id": "7b34075c",
   "metadata": {},
   "source": [
    "### 문제해석\n",
    "괄호가 포함된 문자열이 주어진다. 이 괄호들은 \"()\"이 되어야 하는데, 이를 VPS라고 한다. VPS면 YES고 아니면 NO가 출력된다.\n",
    "\n",
    "### 배경지식\n",
    "스택 or 배열 or 연결리스트. 이 문제는 스택으로 푼다.\n",
    "\n",
    "### 문제해결법\n",
    "\"(\"와 \")\"이 만나면 \"()\"이 되고, 이것이 터져서 없어진다 생각해보자. 문자열 안의 문자를 입력 받아 스택에 넣고, \"()\"이 되었을 때 제거를 하여 터트린다. 그래서 문자열을 다 탐색했는데 모든 문자가 터져서 스택 안에 아무것도 없을 때 YES가 된다.\n",
    "1. 문자열 내 \"(\"를 만났을 때 스택에 넣는다.\n",
    "2. 문자열 내 \")\"를 만났을 때 스택이 뭐가 있는 상태(\"(\"이 있음)라면 스택를 터트린다(pop).\n",
    "3. 문자열 내 \")\"를 만났을 때 스택에 아무것도 없다면 터트릴 수 있는 상태가 아니어서 유효하지 않다.\n",
    "4. 1~3을 반복해 스택이 비어있다면 YES, 뭐가 있다면 NO를 출력한다.\n",
    "\n",
    "#### 시간 복잡도 계산\n",
    "스택에서 push(맨 위 값 넣기)는 O(1), pop(맨 위 값 뽑기)는 O(1)의 시간 복잡도를 가지고 있다. push와 pop을 하는 과정이 문자열의 길이만큼 반복되기 때문에 O(1 * 1 * N) = **O(N)**의 시간 복잡도를 가진다. 문제에서 가장 긴 길이는 50이기 때문에 O(50)의 시간 복잡도가 최악이 되는데, 주어진 시간은 1초고 1초는 대략 1억이기 때문에 결론적으로 시간 조건을 충족해 문제 풀이가 가능하다. 물론 테스트 케이스가 주어졌기 때문에 엄밀히 말하면 O(TN)."
   ]
  },
  {
   "cell_type": "code",
   "execution_count": null,
   "id": "b31a29e5",
   "metadata": {},
   "outputs": [],
   "source": [
    "T = int(input())\n",
    "\n",
    "for _ in range(T):\n",
    "    lst = str(input())\n",
    "\n",
    "    stack = []\n",
    "    for v in lst:\n",
    "        if v == \"(\":\n",
    "            stack.append(v)\n",
    "        elif v == \")\":\n",
    "            if stack:\n",
    "                stack.pop()\n",
    "        else:\n",
    "            stack.append(v)\n",
    "            break\n",
    "\n",
    "    if stack:\n",
    "        print(\"NO\")\n",
    "    else:\n",
    "        print(\"YES\")"
   ]
  }
 ],
 "metadata": {
  "kernelspec": {
   "display_name": "Python 3 (ipykernel)",
   "language": "python",
   "name": "python3"
  },
  "language_info": {
   "codemirror_mode": {
    "name": "ipython",
    "version": 3
   },
   "file_extension": ".py",
   "mimetype": "text/x-python",
   "name": "python",
   "nbconvert_exporter": "python",
   "pygments_lexer": "ipython3",
   "version": "3.8.13"
  }
 },
 "nbformat": 4,
 "nbformat_minor": 5
}
