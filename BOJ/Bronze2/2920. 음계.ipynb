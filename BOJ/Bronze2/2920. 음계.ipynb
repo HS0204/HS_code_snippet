{
 "cells": [
  {
   "cell_type": "markdown",
   "id": "dc58a423",
   "metadata": {},
   "source": [
    "https://www.acmicpc.net/problem/2920"
   ]
  },
  {
   "cell_type": "code",
   "execution_count": null,
   "id": "19dc4e01",
   "metadata": {},
   "outputs": [],
   "source": [
    "lst = list(map(int, input().split()))\n",
    "\n",
    "asc = [1,2,3,4,5,6,7,8]\n",
    "des = [8,7,6,5,4,3,2,1]\n",
    "\n",
    "if(lst == asc):\n",
    "    print(\"ascending\")\n",
    "elif(lst == des):\n",
    "    print(\"descending\")\n",
    "else:\n",
    "    print(\"mixed\")"
   ]
  },
  {
   "cell_type": "markdown",
   "id": "76b3f105",
   "metadata": {},
   "source": [
    "조건이 명확해서 위와 같이 풀었지만 정렬값을 반환해주는 sorted 함수를 활용하면 다음과 같다.  \n",
    "cf. sorted는 정렬값을 반환하고, sort는 반환하지 않는다는 차이가 있다."
   ]
  },
  {
   "cell_type": "code",
   "execution_count": null,
   "id": "76a53e3d",
   "metadata": {},
   "outputs": [],
   "source": [
    "lst = list(map(int, input().split()))\n",
    "\n",
    "if(ls t== sorted(lst)):\n",
    "    print(\"ascending\")\n",
    "elif(lst == sorted(lst, reverse=True)):\n",
    "    print(\"descending\")\n",
    "else:\n",
    "    print(\"mixed\")"
   ]
  }
 ],
 "metadata": {
  "kernelspec": {
   "display_name": "Python 3 (ipykernel)",
   "language": "python",
   "name": "python3"
  },
  "language_info": {
   "codemirror_mode": {
    "name": "ipython",
    "version": 3
   },
   "file_extension": ".py",
   "mimetype": "text/x-python",
   "name": "python",
   "nbconvert_exporter": "python",
   "pygments_lexer": "ipython3",
   "version": "3.8.13"
  }
 },
 "nbformat": 4,
 "nbformat_minor": 5
}
