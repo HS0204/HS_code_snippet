{
 "cells": [
  {
   "cell_type": "markdown",
   "id": "f855804f",
   "metadata": {},
   "source": [
    "https://www.acmicpc.net/problem/2908"
   ]
  },
  {
   "cell_type": "code",
   "execution_count": null,
   "id": "056ebf12",
   "metadata": {},
   "outputs": [],
   "source": [
    "a, b = map(int, input().split())\n",
    "\n",
    "def change(num):\n",
    "    arr = list(map(int, str(num)))\n",
    "  \n",
    "    temp = arr[2]\n",
    "    arr[2] = arr[0]\n",
    "    arr[0] = temp\n",
    "\n",
    "    arr = ''.join(map(str, arr))\n",
    "  \n",
    "    return arr\n",
    "\n",
    "a = change(a)\n",
    "b = change(b)\n",
    "\n",
    "if(a > b):\n",
    "    print(a)\n",
    "else:\n",
    "    print(b)"
   ]
  }
 ],
 "metadata": {
  "kernelspec": {
   "display_name": "Python 3 (ipykernel)",
   "language": "python",
   "name": "python3"
  },
  "language_info": {
   "codemirror_mode": {
    "name": "ipython",
    "version": 3
   },
   "file_extension": ".py",
   "mimetype": "text/x-python",
   "name": "python",
   "nbconvert_exporter": "python",
   "pygments_lexer": "ipython3",
   "version": "3.8.13"
  }
 },
 "nbformat": 4,
 "nbformat_minor": 5
}
