{
 "cells": [
  {
   "cell_type": "markdown",
   "id": "4141f9bf",
   "metadata": {},
   "source": [
    "https://www.acmicpc.net/problem/11720"
   ]
  },
  {
   "cell_type": "code",
   "execution_count": null,
   "id": "ac3ad754",
   "metadata": {},
   "outputs": [],
   "source": [
    "N = int(input())\n",
    "number = input()\n",
    "sum = 0\n",
    "\n",
    "slice = list(map(int, str(number)))\n",
    "\n",
    "for i in range(N):\n",
    "    sum += slice[i]\n",
    "\n",
    "print(sum)"
   ]
  }
 ],
 "metadata": {
  "kernelspec": {
   "display_name": "Python 3 (ipykernel)",
   "language": "python",
   "name": "python3"
  },
  "language_info": {
   "codemirror_mode": {
    "name": "ipython",
    "version": 3
   },
   "file_extension": ".py",
   "mimetype": "text/x-python",
   "name": "python",
   "nbconvert_exporter": "python",
   "pygments_lexer": "ipython3",
   "version": "3.8.13"
  }
 },
 "nbformat": 4,
 "nbformat_minor": 5
}
