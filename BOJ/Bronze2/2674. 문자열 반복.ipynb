{
 "cells": [
  {
   "cell_type": "markdown",
   "id": "be27ff83",
   "metadata": {},
   "source": [
    "https://www.acmicpc.net/problem/2675"
   ]
  },
  {
   "cell_type": "code",
   "execution_count": null,
   "id": "30fd66ca",
   "metadata": {},
   "outputs": [],
   "source": [
    "T = int(input())\n",
    "\n",
    "for _ in range(T):\n",
    "    lst = list(map(str, input().split()))\n",
    "    mul_num = lst[0]\n",
    "    string = lst[1]\n",
    "    string_slice = list(map(str, str(string)))\n",
    "    \n",
    "    for idx in range(len(string_slice)):\n",
    "        answer = string_slice[idx] * int(mul_num)\n",
    "        print(answer, end='')\n",
    "    print()"
   ]
  },
  {
   "cell_type": "markdown",
   "id": "616acacc",
   "metadata": {},
   "source": [
    "문자열(string) 내 각 문자를 반복수(mul_num) 만큼 출력하는 반복문이 끝나고 줄바꿈을 하지 않아 틀렸었다.  \n",
    "문자열이 얼마나 들어올 지 몰라서 list로 받았는데, 다시 살펴보니 이 문제에서는 문자열의 길이가 20글자로 제한되어 있기 때문에 다음과 같이 해도 된다. 조건을 잘 확인하자."
   ]
  },
  {
   "cell_type": "code",
   "execution_count": null,
   "id": "2ddcb4c7",
   "metadata": {},
   "outputs": [],
   "source": [
    "T = int(input())\n",
    "\n",
    "for _ in range(T):\n",
    "    num, string = input().split()\n",
    "    \n",
    "    for x in string:\n",
    "        answer = x * int(num)\n",
    "        print(answer, end='')\n",
    "    print()"
   ]
  },
  {
   "cell_type": "markdown",
   "id": "4d0f6079",
   "metadata": {},
   "source": [
    "input()은 string형으로 값을 받기 때문에 수를 곱해야 할 때는 숫자 자료형으로 바꿔주는 것 잊지 말자."
   ]
  },
  {
   "cell_type": "code",
   "execution_count": null,
   "id": "aa27383c",
   "metadata": {},
   "outputs": [],
   "source": []
  }
 ],
 "metadata": {
  "kernelspec": {
   "display_name": "Python 3 (ipykernel)",
   "language": "python",
   "name": "python3"
  },
  "language_info": {
   "codemirror_mode": {
    "name": "ipython",
    "version": 3
   },
   "file_extension": ".py",
   "mimetype": "text/x-python",
   "name": "python",
   "nbconvert_exporter": "python",
   "pygments_lexer": "ipython3",
   "version": "3.8.13"
  }
 },
 "nbformat": 4,
 "nbformat_minor": 5
}
