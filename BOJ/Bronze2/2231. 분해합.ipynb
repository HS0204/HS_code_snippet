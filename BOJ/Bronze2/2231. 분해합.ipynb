{
 "cells": [
  {
   "cell_type": "markdown",
   "id": "6cc818fa",
   "metadata": {},
   "source": [
    "https://www.acmicpc.net/problem/2231"
   ]
  },
  {
   "cell_type": "markdown",
   "id": "aebb202d",
   "metadata": {},
   "source": [
    "### 정답 코드"
   ]
  },
  {
   "cell_type": "markdown",
   "id": "15dd6289",
   "metadata": {},
   "source": [
    "생성자를 만들고 브루트 포스로 해결"
   ]
  },
  {
   "cell_type": "code",
   "execution_count": null,
   "id": "92396c4b",
   "metadata": {},
   "outputs": [],
   "source": [
    "N = int(input())\n",
    "creator_list = []\n",
    "\n",
    "for i in range(1, N+1):\n",
    "    slice = list(map(int, str(i)))\n",
    "    slice.append(i)\n",
    "    test = sum(slice)\n",
    "    if test == N:\n",
    "        creator_list.append(i)\n",
    "\n",
    "print(min(creator_list) if len(creator_list) > 0 else 0)"
   ]
  }
 ],
 "metadata": {
  "kernelspec": {
   "display_name": "Python 3 (ipykernel)",
   "language": "python",
   "name": "python3"
  },
  "language_info": {
   "codemirror_mode": {
    "name": "ipython",
    "version": 3
   },
   "file_extension": ".py",
   "mimetype": "text/x-python",
   "name": "python",
   "nbconvert_exporter": "python",
   "pygments_lexer": "ipython3",
   "version": "3.8.13"
  }
 },
 "nbformat": 4,
 "nbformat_minor": 5
}
