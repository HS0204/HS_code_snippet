{
 "cells": [
  {
   "cell_type": "markdown",
   "id": "710958b6",
   "metadata": {},
   "source": [
    "https://www.acmicpc.net/problem/23757"
   ]
  },
  {
   "cell_type": "markdown",
   "id": "7ec846e4",
   "metadata": {},
   "source": [
    "## 문제 해석\n",
    "N개의 선물상자와 M명의 아이들이 있다. N개 선물상자에는 각각 선물이 임의 수만큼 들어있고, M명의 아이들에게 서로 다른 번호가 있는데 이 번호는 가져갈 수 있는 선물의 수다. 아이들은 중복된 선물상자에서 각자의 번호만큼 선물을 가져갈 수 있는데, 번호보다 선물상자 안의 선물이 적으면 실망하게 된다. 아이들이 실망하지 않는 방법이 있을까? 있으면 1을 출력, 없으면 0을 출력.\n",
    "\n",
    "## 배경지식\n",
    "스택, 큐, 덱, 우선순위 큐\n",
    "\n",
    "## 문제해결\n",
    "선물 개수가 가장 많은 상자에서 선물을 꺼내면 좋다. 따라서 선물 개수가 가장 많은 상자에서 아이들 모두가 선물을 꺼낼 수 있다면 1을 출력하고, 그게 아니라면 0을 출력하자. 이때 선물을 가져간 상자는 그 개수만큼 가져갈 수 있는 선물의 수를 빼서 다시 목록에 넣을 수 있다. 때문에 우선순위 큐를 쓰는 것이다.  \n",
    "\n",
    "가장 많은 선물을 빼낼 수 있는 상자를 고르려면 max-heap을 사용한다. *cf.파이썬은 min-heap을 지원하므로 음수를 붙여서 임의로 max-heap을 만들자.* 선물이 가장 많은 상자를 골라 아이가 선물을 빼간 후, 가져간 선물만큼 개수를 조절하여 다시 상자를 나열한다. 아이가 선물을 원하는 만큼 가져갈 수 없으면 1을 출력하는 조건을 추가하자."
   ]
  },
  {
   "cell_type": "code",
   "execution_count": null,
   "id": "b3e6a2f5",
   "metadata": {},
   "outputs": [],
   "source": [
    "import sys, heapq\n",
    "\n",
    "N, M = map(int, sys.stdin.readline().split())\n",
    "gift = []\n",
    "\n",
    "for v in list(map(int, sys.stdin.readline().split())):\n",
    "    heapq.heappush(gift, -v)\n",
    "wish = list(map(int, sys.stdin.readline().split()))\n",
    "\n",
    "result = True\n",
    "for v in wish:\n",
    "    gift_num = -heapq.heappop(gift)\n",
    "    if gift_num - v < 0:\n",
    "        result = False\n",
    "        break\n",
    "    heapq.heappush(gift, -(gift_num - v))\n",
    "\n",
    "if result:\n",
    "    print(1)\n",
    "else:\n",
    "    print(0)"
   ]
  },
  {
   "cell_type": "markdown",
   "id": "b413ee41",
   "metadata": {},
   "source": [
    "## 시간복잡도\n",
    "우선순위 큐에서 삽입은 O(logN). N개의 선물 상자가 있기에 O(N * logN).  \n",
    "선물을 빼고 넣어주는 삭제와 삽입이 M번 진행되므로 O(M * 2 * logN), 계수는 빼니까 O(M * logN)\n",
    "결과적으로 O(N + M + logN)의 시간복잡도를 가지게 되는데 1초의 시간이 주어지고 1초는 10억이니까 충분히 해결 가능하다."
   ]
  },
  {
   "cell_type": "code",
   "execution_count": null,
   "id": "c49c778a",
   "metadata": {},
   "outputs": [],
   "source": []
  }
 ],
 "metadata": {
  "kernelspec": {
   "display_name": "Python 3 (ipykernel)",
   "language": "python",
   "name": "python3"
  },
  "language_info": {
   "codemirror_mode": {
    "name": "ipython",
    "version": 3
   },
   "file_extension": ".py",
   "mimetype": "text/x-python",
   "name": "python",
   "nbconvert_exporter": "python",
   "pygments_lexer": "ipython3",
   "version": "3.8.13"
  }
 },
 "nbformat": 4,
 "nbformat_minor": 5
}
