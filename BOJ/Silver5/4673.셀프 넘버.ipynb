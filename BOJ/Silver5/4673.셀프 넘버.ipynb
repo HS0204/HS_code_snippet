{
 "cells": [
  {
   "cell_type": "markdown",
   "id": "e0bdabb7",
   "metadata": {},
   "source": [
    "https://www.acmicpc.net/problem/4673"
   ]
  },
  {
   "cell_type": "code",
   "execution_count": null,
   "id": "02a94c21",
   "metadata": {},
   "outputs": [],
   "source": [
    "creator_arr = []\n",
    "all_arr = []\n",
    "\n",
    "def fun(number):\n",
    "    num = number\n",
    "    slice_sum = sum(list(map(int, str(number))))\n",
    "    result = num + slice_sum\n",
    "    return result\n",
    "    \n",
    "for i in range(1, 10001):\n",
    "    num = fun(i)\n",
    "    if num <= 10000:\n",
    "        creator_arr.append(num)\n",
    "        all_arr.append(i)\n",
    "\n",
    "for i in range(0, len(creator_arr)):\n",
    "    if creator_arr[i] in all_arr:\n",
    "        all_arr.remove(creator_arr[i])\n",
    "\n",
    "for i in range(0, len(all_arr)):\n",
    "    print(all_arr[i])"
   ]
  },
  {
   "cell_type": "markdown",
   "id": "b39b439d",
   "metadata": {},
   "source": [
    "remove 함수는 제거하려는 특정값이 리스트에 있어야만 작동된다는 점을 기억하자."
   ]
  }
 ],
 "metadata": {
  "kernelspec": {
   "display_name": "Python 3 (ipykernel)",
   "language": "python",
   "name": "python3"
  },
  "language_info": {
   "codemirror_mode": {
    "name": "ipython",
    "version": 3
   },
   "file_extension": ".py",
   "mimetype": "text/x-python",
   "name": "python",
   "nbconvert_exporter": "python",
   "pygments_lexer": "ipython3",
   "version": "3.8.13"
  }
 },
 "nbformat": 4,
 "nbformat_minor": 5
}
