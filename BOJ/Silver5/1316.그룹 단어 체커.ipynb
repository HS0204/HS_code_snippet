{
 "cells": [
  {
   "cell_type": "markdown",
   "id": "2c876767",
   "metadata": {},
   "source": [
    "https://www.acmicpc.net/problem/1316"
   ]
  },
  {
   "cell_type": "markdown",
   "id": "6514045e",
   "metadata": {},
   "source": [
    "#### 아이디어\n",
    "그룹 단어는 한 번 나온 문자가 문자열 내에서 또 나오면 안 되지만 붙어서 나오는 경우는 허용한다.\n",
    "\n",
    "문자열 내에서 중복되는 문자를 찾고 해당 문자의 앞뒤로 같은 문자가 없는 경우를 찾아보면 어떨까?"
   ]
  },
  {
   "cell_type": "markdown",
   "id": "53a09378",
   "metadata": {},
   "source": [
    "### 정답 코드"
   ]
  },
  {
   "cell_type": "code",
   "execution_count": null,
   "id": "46f546fb",
   "metadata": {},
   "outputs": [],
   "source": [
    "n = int(input())\n",
    "result = n\n",
    "\n",
    "for _ in range(n):\n",
    "    temp_list = []\n",
    "    word = str(input())\n",
    "  \n",
    "    for i in range(0, len(word)):\n",
    "        if word[i] not in temp_list: # 문자열에서 처음 나온 문자 저장\n",
    "            temp_list.append(word[i])\n",
    "            continue\n",
    "        if word[i] in temp_list: # 재등장한 문자일 경우\n",
    "            if word[i] != word[i-1]: # 이전 문자와 해당 문자가 동일하지 않을 때\n",
    "                result -= 1 # 그룹 단어가 아님\n",
    "                break # 해당 단어 탐색 종료\n",
    "    \n",
    "print(result)"
   ]
  },
  {
   "cell_type": "markdown",
   "id": "ef44bea0",
   "metadata": {},
   "source": [
    "### 오답 코드들"
   ]
  },
  {
   "cell_type": "markdown",
   "id": "c8e29d1d",
   "metadata": {},
   "source": [
    "첫번째 오답. 아이디어 그대로 짠 것. 범위 오류와 result 변수 오류가 난다."
   ]
  },
  {
   "cell_type": "code",
   "execution_count": null,
   "id": "2d3675d7",
   "metadata": {},
   "outputs": [],
   "source": [
    "word = []\n",
    "n = int(input())\n",
    "result = n\n",
    "for _ in range(n):\n",
    "    word.append(str(input()))\n",
    "    \n",
    "def dup_check(list):\n",
    "    temp_list = []\n",
    "    for i in range(0, len(list)):\n",
    "        if list[i] not in temp_list: # 중복되지 않는 경우\n",
    "            temp_list.append(list[i])\n",
    "            continue\n",
    "        if list[i] in temp_list: # 중복된 경우 양 옆으로 있는지\n",
    "            if list[i-1] == list[i] or list[i+1] == list[i]:\n",
    "                continue\n",
    "            else:\n",
    "                result -= 1 # 양 옆에 있지 않은데 한 번 나온 글자가 또 나왔음\n",
    "\n",
    "for i in range(0, n):\n",
    "    slice = list(map(str, str(word[i])))\n",
    "    dup_check(slice)\n",
    "\n",
    "print(result)"
   ]
  },
  {
   "cell_type": "markdown",
   "id": "ee39e47c",
   "metadata": {},
   "source": [
    "두번째 오답. 구글링하여 찾은 코드를 참고해 변형한 것."
   ]
  },
  {
   "cell_type": "code",
   "execution_count": null,
   "id": "af93927d",
   "metadata": {},
   "outputs": [],
   "source": [
    "n = int(input())\n",
    "result = n\n",
    "\n",
    "def dup_check(list):\n",
    "    temp_list = []\n",
    "    for i in range(0, len(list)):\n",
    "        if list[i] not in temp_list:\n",
    "            temp_list.append(list[i])\n",
    "            continue\n",
    "        if list[i] in temp_list:\n",
    "            if list[i-1] == list[i] or list[i+1] == list[i]:\n",
    "                continue\n",
    "            else:\n",
    "                result -= 1\n",
    "\n",
    "for _ in range(n):\n",
    "    word = str(input())\n",
    "    slice = list(map(str, str(word)))\n",
    "    dup_check(slice)\n",
    "    \n",
    "print(result)"
   ]
  },
  {
   "cell_type": "markdown",
   "id": "5a6b1d61",
   "metadata": {},
   "source": [
    "세번째 오답. dup_check 함수를 제거하여 result 변수 오류를 해결. 그룹 단어가 아님이 밝혀졌음에도 반복문이 돌아가는 것을 방지하기 위해 break문 추가."
   ]
  },
  {
   "cell_type": "code",
   "execution_count": null,
   "id": "b37cdf64",
   "metadata": {},
   "outputs": [],
   "source": [
    "n = int(input())\n",
    "result = n\n",
    "\n",
    "for _ in range(n):\n",
    "    temp_list = []\n",
    "    word = str(input())\n",
    "  \n",
    "    for i in range(0, len(word)-1):\n",
    "        if word[i] not in temp_list:\n",
    "            temp_list.append(word[i])\n",
    "            continue\n",
    "        if word[i] in temp_list:\n",
    "            if word[i] == word[i-1] or word[i] == word[i+1]:\n",
    "                continue\n",
    "            else:\n",
    "                result -= 1\n",
    "                break\n",
    "    \n",
    "print(result)"
   ]
  }
 ],
 "metadata": {
  "kernelspec": {
   "display_name": "Python 3 (ipykernel)",
   "language": "python",
   "name": "python3"
  },
  "language_info": {
   "codemirror_mode": {
    "name": "ipython",
    "version": 3
   },
   "file_extension": ".py",
   "mimetype": "text/x-python",
   "name": "python",
   "nbconvert_exporter": "python",
   "pygments_lexer": "ipython3",
   "version": "3.8.13"
  }
 },
 "nbformat": 4,
 "nbformat_minor": 5
}
