{
 "cells": [
  {
   "cell_type": "markdown",
   "id": "6bfe0104",
   "metadata": {},
   "source": [
    "https://www.acmicpc.net/problem/1439"
   ]
  },
  {
   "cell_type": "markdown",
   "id": "5f9d4320",
   "metadata": {},
   "source": [
    "### 아이디어\n",
    "0 또는 1이 이어지는 구간을 찾아서 1구간과 0구간이 몇 개씩 나왔는지 비교한 다음 더 적은 값을 출력하자.\n",
    "##### 필요 변수\n",
    "word ⇒ 문자열 입력 받을 list\n",
    "\n",
    "one ⇒ “1” 구간 수\n",
    "\n",
    "zero ⇒ “0” 구간 수\n",
    "##### 구간 찾는 방법\n",
    "1. 탐색할 때 list range 오류가 날 수 있으니 i번째 문자와 i-1번째 문자를 비교하여 구간을 찾자.\n",
    "2. 1번 이유로 반복문의 시작점은 word[1]\n",
    "3. word[i] ≠ word[i-1]일 때 word[i-1]의 값 구간 변수에 1을 더한다.\n",
    "4. 문자열의 마지막까지 돌았을 때 word[-1] 값 구간 변수에 1을 더한다."
   ]
  },
  {
   "cell_type": "markdown",
   "id": "3c60324a",
   "metadata": {},
   "source": [
    "### 정답으로 처리되었지만 틀린 코드\n",
    "실수로 최소값을 찾는 메서드가 아닌 최대값을 찾는 메서드를 입력했는데도 정답이 되었다. min 메서드를 활용해도 정답처리가 된다. one, zero 두 변수에 동일한 값이 저장되어 있었기 때문인데, 디버깅을 해보니 새로운 구간이 시작될 때도 word[i] ≠ word[i-1] 조건문이 유효하게 돌아가 의도와 다르게 하위 조건문이 실행된다."
   ]
  },
  {
   "cell_type": "code",
   "execution_count": null,
   "id": "1fe2eebc",
   "metadata": {},
   "outputs": [],
   "source": [
    "word = str(input())\n",
    "one = 0\n",
    "zero = 0\n",
    "\n",
    "for i in range(1, len(word)):\n",
    "    if word[i] != word[i-1]:\n",
    "        if word[i] == \"1\":\n",
    "            one += 1\n",
    "        if word[i] == \"0\":\n",
    "              zero += 1\n",
    "    if i == len(word):\n",
    "        if word[i] == \"1\":\n",
    "            one += 1\n",
    "        if word[i] == \"0\":\n",
    "            zero += 1\n",
    "\n",
    "print(max(one, zero))"
   ]
  },
  {
   "cell_type": "markdown",
   "id": "5f3f403e",
   "metadata": {},
   "source": [
    "### 오답 코드\n",
    "새로운 구간을 탐색할 때 인덱스 값을 하나 건너뛰게 만들어 첫 코드에서의 오류를 수정했다. 인덱스를 조절하기 때문에 word 리스트 마지막 값은 반복문 밖에서 처리.\n",
    "but 예제3 00000001 과 같은 경우에서 one 변수에 2, zero 변수에 0이 들어가는 오류가 발생했다."
   ]
  },
  {
   "cell_type": "code",
   "execution_count": null,
   "id": "6aca0bfc",
   "metadata": {},
   "outputs": [],
   "source": [
    "word = str(input())\n",
    "one = 0\n",
    "zero = 0\n",
    "\n",
    "for i in range(1, len(word)):\n",
    "    if word[i] != word[i-1]:\n",
    "        if word[i] == \"1\":\n",
    "            one += 1\n",
    "            i += 2\n",
    "            continue\n",
    "        if word[i] == \"0\":\n",
    "            zero += 1\n",
    "            i += 2\n",
    "            continue\n",
    "\n",
    "if word[-1] == \"1\":\n",
    "    one += 1\n",
    "if word[-1] == \"0\":\n",
    "    zero += 1\n",
    "\n",
    "print(min(one, zero))"
   ]
  },
  {
   "cell_type": "markdown",
   "id": "ea8929e7",
   "metadata": {},
   "source": [
    "### 정답 코드\n",
    "처음 아이디어 제대로 짰으면서 코드를 이상하게 짜서 많이 돌아왔다..."
   ]
  },
  {
   "cell_type": "code",
   "execution_count": null,
   "id": "0670b373",
   "metadata": {},
   "outputs": [],
   "source": [
    "word = str(input())\n",
    "one = 0\n",
    "zero = 0\n",
    "\n",
    "for i in range(1, len(word)):\n",
    "    if word[i] != word[i-1]:\n",
    "        if word[i-1] == \"1\":\n",
    "            one += 1\n",
    "            i += 2\n",
    "            continue\n",
    "        if word[i-1] == \"0\":\n",
    "            zero += 1\n",
    "            i += 2\n",
    "            continue\n",
    "\n",
    "if word[-1] == \"1\":\n",
    "    one += 1\n",
    "if word[-1] == \"0\":\n",
    "    zero += 1\n",
    "\n",
    "print(min(one, zero))"
   ]
  },
  {
   "cell_type": "markdown",
   "id": "ef1bd6e7",
   "metadata": {},
   "source": [
    "---\n",
    "### 생각해볼 것\n",
    "구글링으로 찾은 코드를 보니 정답이지만 틀린 코드가 해당 코드와 같은 원리로 돌아가는 듯 하다. "
   ]
  },
  {
   "cell_type": "code",
   "execution_count": null,
   "id": "08ef6926",
   "metadata": {},
   "outputs": [],
   "source": [
    "S = input()\n",
    "count = 0\n",
    "for i in range(len(S)-1):\n",
    "    if S[i] != S[i+1]:\n",
    "        count += 1\n",
    "print((count + 1) // 2)"
   ]
  },
  {
   "cell_type": "markdown",
   "id": "e9dd4226",
   "metadata": {},
   "source": [
    "참고 코드는 숫자가 변화하는 횟수를 찾았다.\n",
    "\n",
    "내 코드는 다른 변수로 카운트했지만 어쨌든 해당 값은 숫자가 변화한 횟수다.\n",
    "\n",
    "가장 마지막까지 이해가 안 간 부분은 참고 코드에서 마지막에 횟수로 2로 나누는지 였는데, 구하고자하는 출력값이 숫자 변화 횟수가 아니라 숫자를 최소로 바꿔야하는 값이기 때문이다.\n",
    "\n",
    "010인 경우 두 번 0→1로 한 번 변화, 1→0으로 한 변 변화, 총 2번 변화하기 때문에 0이든 1이든 관계 없이 한 번을 바꾸게 되면 숫자가 동일한 값이 된다.\n",
    "\n",
    "다시 정리해보면 내가 짠 코드는 변수를 0일 때와 1일 때 두 개로 나눴기 때문에 의도치 않았어도 참고 코드와 같이 2로 나누는 원리가 된 것이다. 더불어 느낌이긴 하지만 내 코드가 완전 의도대로 돌아간 것 같지도 않다ㅎㅎ…"
   ]
  }
 ],
 "metadata": {
  "kernelspec": {
   "display_name": "Python 3 (ipykernel)",
   "language": "python",
   "name": "python3"
  },
  "language_info": {
   "codemirror_mode": {
    "name": "ipython",
    "version": 3
   },
   "file_extension": ".py",
   "mimetype": "text/x-python",
   "name": "python",
   "nbconvert_exporter": "python",
   "pygments_lexer": "ipython3",
   "version": "3.8.13"
  }
 },
 "nbformat": 4,
 "nbformat_minor": 5
}
