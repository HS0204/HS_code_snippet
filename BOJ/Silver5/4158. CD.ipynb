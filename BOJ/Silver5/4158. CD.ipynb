{
 "cells": [
  {
   "cell_type": "markdown",
   "id": "e5b0d45b",
   "metadata": {},
   "source": [
    "https://www.acmicpc.net/problem/4158"
   ]
  },
  {
   "cell_type": "markdown",
   "id": "f9080fd4",
   "metadata": {},
   "source": [
    "## 문제해석\n",
    "두 사람이 가지고 있는 CD의 수를 입력 받고, CD의 번호를 입력 받는다. 한 사람이 같은 CD를 중복해서 가지고 있지는 않다. 두 사람이 CD를 동시에 팔 수 있는 경우는 몇 번일까?\n",
    "\n",
    "## 배경지식\n",
    "집합, 맵\n",
    "\n",
    "## 문제해결\n",
    "CD의 개수를 집합에 받아서 두 집합의 교집합을 구한다."
   ]
  },
  {
   "cell_type": "code",
   "execution_count": null,
   "id": "d9a43308",
   "metadata": {},
   "outputs": [],
   "source": [
    "while True:\n",
    "    N, M = map(int, input().split())\n",
    "\n",
    "    if N == M == 0:\n",
    "        break\n",
    "  \n",
    "    set1 = set()\n",
    "    set2 = set()\n",
    "  \n",
    "    for _ in range(N):\n",
    "        set1.add(int(input()))\n",
    "  \n",
    "    for _ in range(M):\n",
    "        set2.add(int(input()))\n",
    "  \n",
    "    print(len(set1 & set2))"
   ]
  },
  {
   "cell_type": "markdown",
   "id": "b8cf1735",
   "metadata": {},
   "source": [
    "## 시간복잡도\n",
    "집합을 넣는 add는 O(1)이기에 반복문이 있는 것을 고려하여 계산하면 O(N)의 시간복잡도를 가진다. CD의 양은 10억을 넘지 않고, 1초(10억)의 시간이 주어졌기에 문제 풀이가 가능하다."
   ]
  },
  {
   "cell_type": "code",
   "execution_count": null,
   "id": "cb5cee72",
   "metadata": {},
   "outputs": [],
   "source": []
  }
 ],
 "metadata": {
  "kernelspec": {
   "display_name": "Python 3 (ipykernel)",
   "language": "python",
   "name": "python3"
  },
  "language_info": {
   "codemirror_mode": {
    "name": "ipython",
    "version": 3
   },
   "file_extension": ".py",
   "mimetype": "text/x-python",
   "name": "python",
   "nbconvert_exporter": "python",
   "pygments_lexer": "ipython3",
   "version": "3.8.13"
  }
 },
 "nbformat": 4,
 "nbformat_minor": 5
}
