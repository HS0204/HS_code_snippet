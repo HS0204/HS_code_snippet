{
 "cells": [
  {
   "cell_type": "markdown",
   "id": "74857c2a",
   "metadata": {},
   "source": [
    "https://www.acmicpc.net/problem/1157"
   ]
  },
  {
   "cell_type": "markdown",
   "id": "d637edd7",
   "metadata": {},
   "source": [
    "# 정답 코드"
   ]
  },
  {
   "cell_type": "code",
   "execution_count": null,
   "id": "92dd86b6",
   "metadata": {},
   "outputs": [],
   "source": [
    "words = input().upper()\n",
    "\n",
    "def mode(lst):\n",
    "    freq = {x:lst.count(x) for x in set(lst)}  \n",
    "    return [x for x in freq.keys() if freq[x] == max(freq.values())]\n",
    "\n",
    "if len(mode(words)) > 1:\n",
    "    print(\"?\")\n",
    "else:\n",
    "    print(mode(words)[0])"
   ]
  },
  {
   "cell_type": "markdown",
   "id": "8469dfec",
   "metadata": {},
   "source": [
    "collections 모듈을 이용해 최빈값을 구했더니 계속 틀려서 함수를 구현했다."
   ]
  },
  {
   "cell_type": "code",
   "execution_count": null,
   "id": "b09b2f3c",
   "metadata": {},
   "outputs": [],
   "source": []
  }
 ],
 "metadata": {
  "kernelspec": {
   "display_name": "Python 3 (ipykernel)",
   "language": "python",
   "name": "python3"
  },
  "language_info": {
   "codemirror_mode": {
    "name": "ipython",
    "version": 3
   },
   "file_extension": ".py",
   "mimetype": "text/x-python",
   "name": "python",
   "nbconvert_exporter": "python",
   "pygments_lexer": "ipython3",
   "version": "3.8.13"
  }
 },
 "nbformat": 4,
 "nbformat_minor": 5
}
