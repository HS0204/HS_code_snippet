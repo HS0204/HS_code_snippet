{
 "cells": [
  {
   "cell_type": "markdown",
   "id": "6464945d",
   "metadata": {},
   "source": [
    "https://www.acmicpc.net/problem/2309"
   ]
  },
  {
   "cell_type": "markdown",
   "id": "6f8568b8",
   "metadata": {},
   "source": [
    "### 아이디어\n",
    "총합에서 임의의 2개를 뺀 값이 100이 되는 경우를 찾는다."
   ]
  },
  {
   "cell_type": "markdown",
   "id": "448b4337",
   "metadata": {},
   "source": [
    "### 오답 코드\n",
    "list[index]로 값을 제거하면 해당 위치는 빈 공간이 되는 것이 아니라 다음 인덱스 값으로 채워지기 때문에 올바른 제거가 불가능하다."
   ]
  },
  {
   "cell_type": "code",
   "execution_count": null,
   "id": "f5c5e419",
   "metadata": {},
   "outputs": [],
   "source": [
    "list = [int(input()) for _ in range(9)]\n",
    "sum = sum(list)\n",
    "\n",
    "for i in range(9):\n",
    "    for j in range(i+1, 9):\n",
    "        if sum - (list[i] + list[j]) == 100:\n",
    "            list.remove(list[i])\n",
    "            list.remove(list[j])\n",
    "\n",
    "            list.sort()\n",
    "            for v in list:\n",
    "                print(v)\n",
    "            break\n",
    "  \n",
    "  if len(list) < 9:\n",
    "    break"
   ]
  },
  {
   "cell_type": "markdown",
   "id": "44e50018",
   "metadata": {},
   "source": [
    "### 정답 코드"
   ]
  },
  {
   "cell_type": "markdown",
   "id": "a019b60c",
   "metadata": {},
   "source": [
    "지우고자 하는 값을 변수에 할당하고, 해당 변수를 이용해 올바르게 값을 제거한다."
   ]
  },
  {
   "cell_type": "code",
   "execution_count": null,
   "id": "0a055d7c",
   "metadata": {},
   "outputs": [],
   "source": [
    "list = [int(input()) for _ in range(9)]\n",
    "sum = sum(list)\n",
    "\n",
    "for i in range(9):\n",
    "    for j in range(i+1, 9):\n",
    "        if sum - (list[i] + list[j]) == 100:\n",
    "            a, b = list[i], list[j]\n",
    "            list.remove(a)\n",
    "            list.remove(b)\n",
    "\n",
    "            list.sort()\n",
    "      \n",
    "            for v in list:\n",
    "                print(v)\n",
    "            break\n",
    "  \n",
    "  if len(list) < 9:\n",
    "    break"
   ]
  }
 ],
 "metadata": {
  "kernelspec": {
   "display_name": "Python 3 (ipykernel)",
   "language": "python",
   "name": "python3"
  },
  "language_info": {
   "codemirror_mode": {
    "name": "ipython",
    "version": 3
   },
   "file_extension": ".py",
   "mimetype": "text/x-python",
   "name": "python",
   "nbconvert_exporter": "python",
   "pygments_lexer": "ipython3",
   "version": "3.8.13"
  }
 },
 "nbformat": 4,
 "nbformat_minor": 5
}
