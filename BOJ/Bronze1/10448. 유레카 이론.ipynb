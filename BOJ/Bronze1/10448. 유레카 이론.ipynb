{
 "cells": [
  {
   "cell_type": "markdown",
   "id": "baaabc36",
   "metadata": {},
   "source": [
    "https://www.acmicpc.net/problem/10448"
   ]
  },
  {
   "cell_type": "markdown",
   "id": "fbbee109",
   "metadata": {},
   "source": [
    "### 아이디어\n",
    "브루트 포스로 세 삼각수를 더했을 때 가능한 수를 찾고, 해당 수를 찾게 되면 반복문을 멈추자.\n",
    "\n",
    "*모든 자연수가 삼각수 합으로 이루어져 있기 때문에 모든 자연수는 삼각수다. → 오답코드를 만들어낸 잘못된 아이디어*"
   ]
  },
  {
   "cell_type": "markdown",
   "id": "d790082d",
   "metadata": {},
   "source": [
    "### 오답 코드"
   ]
  },
  {
   "cell_type": "code",
   "execution_count": null,
   "id": "a0ae762c",
   "metadata": {},
   "outputs": [],
   "source": [
    "T = int(input())\n",
    "\n",
    "for _ in range(T):\n",
    "    K = int(input())\n",
    "    find = 0\n",
    "    for i in range(1, 1001):\n",
    "        for j in range(1, 1001):\n",
    "            for k in range(1, 1001):\n",
    "                if K == i + j + k:\n",
    "                    find = 1\n",
    "                    break\n",
    "            if find == 1:\n",
    "                break\n",
    "    if find == 1:\n",
    "        break\n",
    "\n",
    "    print(1 if find == 1 else 0)"
   ]
  },
  {
   "cell_type": "markdown",
   "id": "d4683bfb",
   "metadata": {},
   "source": [
    "### 정답 코드\n",
    "삼각수를 따로 구했다."
   ]
  },
  {
   "cell_type": "code",
   "execution_count": null,
   "id": "36a01ebd",
   "metadata": {},
   "outputs": [],
   "source": [
    "T = int(input())\n",
    "\n",
    "n = 1\n",
    "list = []\n",
    "while True:\n",
    "    tri_num = int(n * (n+1) / 2)\n",
    "    if tri_num <= 1000:\n",
    "        list.append(tri_num)\n",
    "        n += 1\n",
    "    else:\n",
    "        break\n",
    "\n",
    "for _ in range(T):\n",
    "    K = int(input())\n",
    "    find = 0\n",
    "  \n",
    "    for i in range(len(list)):\n",
    "        for j in range(len(list)):\n",
    "            for k in range(len(list)):\n",
    "                if K == list[i] + list[j] + list[k]:\n",
    "                    find = 1\n",
    "                    break\n",
    "            if find == 1:\n",
    "                break\n",
    "        if find == 1:\n",
    "            break\n",
    "\n",
    "    print(1 if find == 1 else 0)"
   ]
  }
 ],
 "metadata": {
  "kernelspec": {
   "display_name": "Python 3 (ipykernel)",
   "language": "python",
   "name": "python3"
  },
  "language_info": {
   "codemirror_mode": {
    "name": "ipython",
    "version": 3
   },
   "file_extension": ".py",
   "mimetype": "text/x-python",
   "name": "python",
   "nbconvert_exporter": "python",
   "pygments_lexer": "ipython3",
   "version": "3.8.13"
  }
 },
 "nbformat": 4,
 "nbformat_minor": 5
}
